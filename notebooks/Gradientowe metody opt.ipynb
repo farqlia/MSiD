{
 "cells": [
  {
   "cell_type": "code",
   "execution_count": 2,
   "metadata": {},
   "outputs": [],
   "source": [
    "import numpy as np\n",
    "import sys\n",
    "import os \n",
    "from functools import partial\n",
    "import scipy\n",
    "from scipy.optimize import fmin\n",
    "DATA_DIR = r\"C:\\Users\\julia\\VSCode\\MSiD\\data\""
   ]
  },
  {
   "attachments": {},
   "cell_type": "markdown",
   "metadata": {},
   "source": [
    "Exercise 1\n",
    "W metodzie stałokrokowej nie mamy gwarancji osiągnięcia minimum, gdyż przy stałym kroku możemy nawet przeskoczyć minimum lokalne "
   ]
  },
  {
   "cell_type": "code",
   "execution_count": 3,
   "metadata": {},
   "outputs": [],
   "source": [
    "def steepest_descent(func, gradient, learning_rate, start_point, stop_condition, write_to=None):\n",
    "    current_point = start_point\n",
    "    i = 1\n",
    "    while True:\n",
    "        print(f\"ITERATION {i}\", file=write_to)\n",
    "        gradient_value = gradient(current_point)\n",
    "        print(f\"\\tgradient_value = {gradient_value}\", file=write_to)\n",
    "        step_size = learning_rate * gradient_value\n",
    "        print(f\"\\tstep_size = {step_size}\", file=write_to)\n",
    "        next_point = current_point - step_size \n",
    "        print(f\"\\tnext_point = {next_point}\", file=write_to)\n",
    "        print(f\"\\tf({next_point}) = {func(next_point)}\", file=write_to)\n",
    "\n",
    "        if stop_condition(current_point, next_point, write_to=write_to):\n",
    "            print(f\"Reached stop condition at {next_point}, value = {func(next_point)}\", file=write_to)\n",
    "            break \n",
    "        i += 1\n",
    "        current_point = next_point\n",
    "    \n",
    "\n",
    "    return current_point\n",
    "\n",
    "\n",
    "def func(X):\n",
    "    return np.sum(X ** 2)\n",
    "\n",
    "def gradient(X):\n",
    "    return X * 2\n",
    "\n",
    "def L1_norm(X):\n",
    "    return np.sum(np.abs(X))\n",
    "\n",
    "def L2_norm(X):\n",
    "    return np.sqrt(np.sum(X ** 2))\n",
    "\n",
    "def stop(current_point, next_point, error, write_to=None):\n",
    "    computed = L2_norm(current_point - next_point)\n",
    "    print(f\"L2 = {computed}\", file=write_to) \n",
    "    return computed < error \n"
   ]
  },
  {
   "cell_type": "code",
   "execution_count": 4,
   "metadata": {},
   "outputs": [
    {
     "name": "stdout",
     "output_type": "stream",
     "text": [
      "f([0.0065536 0.0065536]) = 8.589934592000008e-05\n"
     ]
    }
   ],
   "source": [
    "h_i = 0.3\n",
    "x_start = np.array([4, 4])\n",
    "with open(os.path.join(DATA_DIR, \"ex1.txt\"), mode='w') as f:\n",
    "    result = steepest_descent(func, gradient, h_i, x_start, partial(stop, error=0.01), write_to=f)\n",
    "    print(f\"f({result}) = {func(result)}\")"
   ]
  },
  {
   "cell_type": "code",
   "execution_count": 5,
   "metadata": {},
   "outputs": [
    {
     "data": {
      "text/plain": [
       "array([2, 3])"
      ]
     },
     "execution_count": 5,
     "metadata": {},
     "output_type": "execute_result"
    }
   ],
   "source": [
    "v1 = np.array([3, 4])\n",
    "v2 = np.array([1, 1])\n",
    "\n",
    "# Subtraction is element-wise\n",
    "v1 - v2"
   ]
  },
  {
   "cell_type": "code",
   "execution_count": 6,
   "metadata": {},
   "outputs": [
    {
     "name": "stdout",
     "output_type": "stream",
     "text": [
      "Optimization terminated successfully.\n",
      "         Current function value: 0.000000\n",
      "         Iterations: 44\n",
      "         Function evaluations: 80\n"
     ]
    },
    {
     "data": {
      "text/plain": [
       "9.503461544006107e-10"
      ]
     },
     "execution_count": 6,
     "metadata": {},
     "output_type": "execute_result"
    }
   ],
   "source": [
    "scipy_min = fmin(func, x0=x_start)\n",
    "func(scipy_min)"
   ]
  },
  {
   "attachments": {},
   "cell_type": "markdown",
   "metadata": {},
   "source": [
    "Exercise 2\n",
    "Minimum tej funkcji znajduje się w punkcie (1, 1)"
   ]
  },
  {
   "cell_type": "code",
   "execution_count": 7,
   "metadata": {},
   "outputs": [
    {
     "name": "stdout",
     "output_type": "stream",
     "text": [
      "f([0.43228954 0.07528693]) = 0.35342448875174604\n"
     ]
    }
   ],
   "source": [
    "def func(X):\n",
    "    return 2.5 * (X[0] ** 2 - X[1]) ** 2 + (1 - X[0]) ** 2\n",
    "\n",
    "def gradient(X):\n",
    "    return np.array([10 * X[0] ** 3 - 10 * X[0] * X[1] + 2 * X[0] - 2, \n",
    "                     -5 * (X[0] ** 2 - X[1])])\n",
    "\n",
    "h_i = 0.1\n",
    "x_start = np.array([-0.5, 1])\n",
    "with open(os.path.join(DATA_DIR, \"ex2.txt\"), mode='w') as f:\n",
    "    result = steepest_descent(func, gradient, h_i, x_start, partial(stop, error=0.1), write_to=f)\n",
    "    print(f\"f({result}) = {func(result)}\")"
   ]
  },
  {
   "cell_type": "code",
   "execution_count": 8,
   "metadata": {},
   "outputs": [
    {
     "name": "stdout",
     "output_type": "stream",
     "text": [
      "f([0.89834828 0.78934951]) = 0.011114539348035525\n",
      "f([0.89761505 0.78790576]) = 0.011275402470144028\n"
     ]
    }
   ],
   "source": [
    "h_i = 0.1\n",
    "# Iteration 37\n",
    "with open(os.path.join(DATA_DIR, \"ex2_a.txt\"), mode='w') as f:\n",
    "    result = steepest_descent(func, gradient, h_i, x_start, partial(stop, error=0.01), write_to=f)\n",
    "    print(f\"f({result}) = {func(result)}\")\n",
    "\n",
    "h_i = 0.01\n",
    "with open(os.path.join(DATA_DIR, \"ex2_b.txt\"), mode='w') as f:\n",
    "    result = steepest_descent(func, gradient, h_i, x_start, partial(stop, error=0.001), write_to=f)\n",
    "    print(f\"f({result}) = {func(result)}\")"
   ]
  },
  {
   "cell_type": "code",
   "execution_count": 9,
   "metadata": {},
   "outputs": [
    {
     "data": {
      "text/plain": [
       "2.5"
      ]
     },
     "execution_count": 9,
     "metadata": {},
     "output_type": "execute_result"
    }
   ],
   "source": [
    "func(np.array([1, 2]))"
   ]
  },
  {
   "cell_type": "code",
   "execution_count": 10,
   "metadata": {},
   "outputs": [
    {
     "name": "stdout",
     "output_type": "stream",
     "text": [
      "Optimization terminated successfully.\n",
      "         Current function value: 0.000000\n",
      "         Iterations: 58\n",
      "         Function evaluations: 109\n"
     ]
    },
    {
     "data": {
      "text/plain": [
       "2.3379829250198353e-10"
      ]
     },
     "execution_count": 10,
     "metadata": {},
     "output_type": "execute_result"
    }
   ],
   "source": [
    "scipy_min = fmin(func, x0=x_start)\n",
    "func(scipy_min)"
   ]
  },
  {
   "attachments": {},
   "cell_type": "markdown",
   "metadata": {},
   "source": [
    "W porównaniu z metodą zmiennokrokową, w metodzie stałokrokowej nie wykonujemy dodatkowych obliczeń, więc możemy więcej iteracji zrobić"
   ]
  },
  {
   "attachments": {},
   "cell_type": "markdown",
   "metadata": {},
   "source": [
    "Exercise 3"
   ]
  },
  {
   "cell_type": "code",
   "execution_count": 11,
   "metadata": {},
   "outputs": [],
   "source": [
    "def var_steepest_descent(func, gradient, learning_rate, start_point, stop_condition, write_to=None):\n",
    "    current_point = start_point\n",
    "    i = 1\n",
    "    while True:\n",
    "        print(f\"ITERATION {i}\", file=write_to)\n",
    "        gradient_value = gradient(current_point)\n",
    "        print(f\"\\tgradient_value = {gradient_value}\", file=write_to)\n",
    "        step_size = learning_rate(current_point, gradient_value, write_to) * gradient_value\n",
    "        print(f\"\\tstep_size = {step_size}\", file=write_to)\n",
    "        next_point = current_point - step_size \n",
    "        print(f\"\\tnext_point = {next_point}\", file=write_to)\n",
    "        print(f\"\\tf({next_point}) = {func(next_point)}\", file=write_to)\n",
    "\n",
    "        if stop_condition(current_point, next_point, write_to=write_to):\n",
    "            print(f\"Reached stop condition at {next_point}, value = {func(next_point):.2f}\", file=write_to)\n",
    "            break \n",
    "        i += 1\n",
    "        current_point = next_point\n",
    "    \n",
    "\n",
    "    return current_point\n",
    "\n",
    "\n",
    "def update_learning_rate(X, gradient, write_to=None):\n",
    "    \n",
    "    def metric(alpha):\n",
    "        # This is original function\n",
    "        return np.sum((X - alpha * gradient) ** 2)\n",
    "    \n",
    "    min_alpha = fmin(metric, x0=0.01, disp=False)\n",
    "    print(f\"\\talpha = {min_alpha[0]:.2f}\", file=write_to)\n",
    "    return min_alpha[0]"
   ]
  },
  {
   "attachments": {},
   "cell_type": "markdown",
   "metadata": {},
   "source": [
    "W metodzie zmiennokrokowej wykonujemy optymalizację kierunkową współczynnika kroku. Tutaj wybieramy takie $\\alpha$, by minimalizowało funkcję wejściową"
   ]
  },
  {
   "cell_type": "code",
   "execution_count": 12,
   "metadata": {},
   "outputs": [
    {
     "name": "stdout",
     "output_type": "stream",
     "text": [
      "\talpha = 0.50\n"
     ]
    },
    {
     "data": {
      "text/plain": [
       "0.5000000000000007"
      ]
     },
     "execution_count": 12,
     "metadata": {},
     "output_type": "execute_result"
    }
   ],
   "source": [
    "update_learning_rate(np.array([4, 4]), np.array([8, 8]))"
   ]
  },
  {
   "attachments": {},
   "cell_type": "markdown",
   "metadata": {},
   "source": [
    "Tutaj potrzebowaliśmy jednego kroku, by znaleźć minimum. "
   ]
  },
  {
   "cell_type": "code",
   "execution_count": 13,
   "metadata": {},
   "outputs": [
    {
     "name": "stdout",
     "output_type": "stream",
     "text": [
      "f([-5.32907052e-15 -5.32907052e-15]) = 5.679798517591285e-29\n"
     ]
    }
   ],
   "source": [
    "def func(X):\n",
    "    return np.sum(X ** 2)\n",
    "\n",
    "def gradient(X):\n",
    "    return X * 2\n",
    "\n",
    "x_start = np.array([4, 4])\n",
    "with open(os.path.join(DATA_DIR, \"ex3.txt\"), mode='w') as f:\n",
    "    result = var_steepest_descent(func, gradient, update_learning_rate, x_start, partial(stop, error=0.01), write_to=f)\n",
    "    print(f\"f({result}) = {func(result)}\")"
   ]
  },
  {
   "attachments": {},
   "cell_type": "markdown",
   "metadata": {},
   "source": [
    "Exercise 4"
   ]
  },
  {
   "cell_type": "code",
   "execution_count": 14,
   "metadata": {},
   "outputs": [],
   "source": [
    "points = []\n",
    "\n",
    "def var_steepest_descent_2(func, gradient, learning_rate, start_point, stop_condition, write_to=None,\n",
    "                           max_iter=1000):\n",
    "    current_point = start_point\n",
    "    i = 1\n",
    "    while True:\n",
    "        print(f\"ITERATION {i}\", file=write_to)\n",
    "        gradient_value = gradient(current_point)\n",
    "        print(f\"\\tgradient_value = {gradient_value}\", file=write_to)\n",
    "        step_size = learning_rate(i, write_to) * gradient_value\n",
    "        print(f\"\\tstep_size = {step_size}\", file=write_to)\n",
    "        next_point = current_point - step_size \n",
    "        points.append(next_point)\n",
    "        print(f\"\\tnext_point = {next_point}\", file=write_to)\n",
    "        print(f\"\\tf({next_point}) = {func(next_point)}\", file=write_to)\n",
    "\n",
    "        if stop_condition(current_point, next_point, write_to=write_to) or i == max_iter:\n",
    "            print(f\"Reached stop condition at {next_point}, value = {func(next_point):.2f}\", file=write_to)\n",
    "            break \n",
    "        i += 1\n",
    "        current_point = next_point\n",
    "    \n",
    "\n",
    "    return current_point"
   ]
  },
  {
   "cell_type": "code",
   "execution_count": 15,
   "metadata": {},
   "outputs": [],
   "source": [
    "def lr1(i, write_to=None):\n",
    "    next_step = 0.0007 * i \n",
    "    print(f\"\\tnext step = {next_step:.2f}\", file=write_to)\n",
    "    return next_step\n",
    "\n",
    "def lr2(i, write_to=None):\n",
    "    next_step = 0.000701 * i \n",
    "    print(f\"\\tnext step = {next_step:.2f}\", file=write_to)\n",
    "    return next_step\n",
    "\n",
    "def lr3(i, write_to=None):\n",
    "    next_step = 0.03 * np.sqrt(i) \n",
    "    print(f\"\\tnext step = {next_step:.2f}\", file=write_to)\n",
    "    return next_step\n",
    "\n",
    "def lr4(i, write_to=None):\n",
    "    next_step = 0.03* np.power(i, 1 / 4)\n",
    "    print(f\"\\tnext step = {next_step:.2f}\", file=write_to)\n",
    "    return next_step\n"
   ]
  },
  {
   "cell_type": "code",
   "execution_count": 16,
   "metadata": {},
   "outputs": [
    {
     "name": "stdout",
     "output_type": "stream",
     "text": [
      "[a]: f([0.99054452 0.97963282]) = 9.537848629279827e-05\n",
      "[b]: f([0.99059457 0.9797404 ]) = 9.436956874481766e-05\n",
      "[d]: f([0.9889871  0.97629347]) = 0.00012940214379883423\n"
     ]
    }
   ],
   "source": [
    "methods = [lr1, lr2, lr4]\n",
    "names = ['a', 'b', 'd']\n",
    "\n",
    "def func(X):\n",
    "    return 2.5 * (X[0] ** 2 - X[1]) ** 2 + (1 - X[0]) ** 2\n",
    "\n",
    "def gradient(X):\n",
    "    return np.array([10 * X[0] ** 3 - 10 * X[0] * X[1] + 2 * X[0] - 2, \n",
    "                     -5 * (X[0] ** 2 - X[1])])\n",
    "\n",
    "\n",
    "x_start = np.array([-0.5, 1])\n",
    "\n",
    "for method, name in zip(methods, names):\n",
    "    with open(os.path.join(DATA_DIR, f\"ex4{name}.txt\"), mode='w') as f:\n",
    "        result = var_steepest_descent_2(func, gradient, method, x_start, partial(stop, error=0.001), write_to=f)\n",
    "        print(f\"[{name}]: f({result}) = {func(result)}\")"
   ]
  },
  {
   "cell_type": "code",
   "execution_count": 17,
   "metadata": {},
   "outputs": [
    {
     "name": "stderr",
     "output_type": "stream",
     "text": [
      "C:\\Users\\julia\\AppData\\Local\\Temp\\ipykernel_9984\\4056960687.py:5: RuntimeWarning: overflow encountered in double_scalars\n",
      "  return 2.5 * (X[0] ** 2 - X[1]) ** 2 + (1 - X[0]) ** 2\n",
      "C:\\Users\\julia\\AppData\\Local\\Temp\\ipykernel_9984\\2746051287.py:34: RuntimeWarning: overflow encountered in square\n",
      "  return np.sqrt(np.sum(X ** 2))\n",
      "C:\\Users\\julia\\AppData\\Local\\Temp\\ipykernel_9984\\4056960687.py:8: RuntimeWarning: overflow encountered in double_scalars\n",
      "  return np.array([10 * X[0] ** 3 - 10 * X[0] * X[1] + 2 * X[0] - 2,\n",
      "C:\\Users\\julia\\AppData\\Local\\Temp\\ipykernel_9984\\4056960687.py:9: RuntimeWarning: overflow encountered in double_scalars\n",
      "  -5 * (X[0] ** 2 - X[1])])\n",
      "C:\\Users\\julia\\AppData\\Local\\Temp\\ipykernel_9984\\4056960687.py:5: RuntimeWarning: invalid value encountered in double_scalars\n",
      "  return 2.5 * (X[0] ** 2 - X[1]) ** 2 + (1 - X[0]) ** 2\n",
      "C:\\Users\\julia\\AppData\\Local\\Temp\\ipykernel_9984\\4056960687.py:8: RuntimeWarning: invalid value encountered in double_scalars\n",
      "  return np.array([10 * X[0] ** 3 - 10 * X[0] * X[1] + 2 * X[0] - 2,\n",
      "C:\\Users\\julia\\AppData\\Local\\Temp\\ipykernel_9984\\4056960687.py:9: RuntimeWarning: invalid value encountered in double_scalars\n",
      "  -5 * (X[0] ** 2 - X[1])])\n"
     ]
    },
    {
     "name": "stdout",
     "output_type": "stream",
     "text": [
      "[d]: f([nan nan]) = nan\n"
     ]
    }
   ],
   "source": [
    "x_start = np.array([-0.5, 1])\n",
    "\n",
    "with open(os.path.join(DATA_DIR, f\"ex4_c.txt\"), mode='w') as f:\n",
    "    result = var_steepest_descent_2(func, gradient, lr3, x_start, partial(stop, error=0.001), write_to=f,\n",
    "                                        max_iter=300)\n",
    "    print(f\"[{name}]: f({result}) = {func(result)}\")"
   ]
  },
  {
   "cell_type": "code",
   "execution_count": 18,
   "metadata": {},
   "outputs": [],
   "source": [
    "len(points)\n",
    "points = np.array(points)"
   ]
  },
  {
   "cell_type": "code",
   "execution_count": 19,
   "metadata": {},
   "outputs": [
    {
     "data": {
      "text/plain": [
       "[<matplotlib.lines.Line2D at 0x25f2e231d20>]"
      ]
     },
     "execution_count": 19,
     "metadata": {},
     "output_type": "execute_result"
    },
    {
     "data": {
      "image/png": "[encoded data removed]",
      "text/plain": [
       "<Figure size 432x288 with 1 Axes>"
      ]
     },
     "metadata": {
      "needs_background": "light"
     },
     "output_type": "display_data"
    }
   ],
   "source": [
    "import matplotlib.pyplot as plt \n",
    "\n",
    "n_points = 33\n",
    "\n",
    "plt.plot(points[:n_points, 0], points[:n_points, 1])"
   ]
  },
  {
   "cell_type": "code",
   "execution_count": null,
   "metadata": {},
   "outputs": [],
   "source": []
  }
 ],
 "metadata": {
  "kernelspec": {
   "display_name": "DataCampTutorials",
   "language": "python",
   "name": "python3"
  },
  "language_info": {
   "codemirror_mode": {
    "name": "ipython",
    "version": 3
   },
   "file_extension": ".py",
   "mimetype": "text/x-python",
   "name": "python",
   "nbconvert_exporter": "python",
   "pygments_lexer": "ipython3",
   "version": "3.10.4"
  },
  "orig_nbformat": 4
 },
 "nbformat": 4,
 "nbformat_minor": 2
}
