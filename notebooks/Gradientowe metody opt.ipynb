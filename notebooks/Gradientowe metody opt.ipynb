{
 "cells": [
  {
   "cell_type": "code",
   "execution_count": 3,
   "metadata": {},
   "outputs": [
    {
     "name": "stderr",
     "output_type": "stream",
     "text": [
      "c:\\Users\\julia\\anaconda3\\envs\\DataCampTutorials\\lib\\site-packages\\scipy\\__init__.py:146: UserWarning: A NumPy version >=1.16.5 and <1.23.0 is required for this version of SciPy (detected version 1.24.2\n",
      "  warnings.warn(f\"A NumPy version >={np_minversion} and <{np_maxversion}\"\n"
     ]
    }
   ],
   "source": [
    "import numpy as np\n",
    "import sys\n",
    "import os \n",
    "from functools import partial                                                                           \n",
    "import scipy\n",
    "import matplotlib.pyplot as plt\n",
    "from matplotlib import cm\n",
    "from matplotlib.colors import LightSource\n",
    "from scipy.optimize import fmin\n",
    "DATA_DIR = r\"C:\\Users\\julia\\VSCode\\MSiD\\data\""
   ]
  },
  {
   "attachments": {},
   "cell_type": "markdown",
   "metadata": {},
   "source": [
    "Exercise 1\n",
    "W metodzie stałokrokowej nie mamy gwarancji osiągnięcia minimum, gdyż przy stałym kroku możemy nawet przeskoczyć minimum lokalne "
   ]
  },
  {
   "cell_type": "code",
   "execution_count": 38,
   "metadata": {},
   "outputs": [],
   "source": [
    "def steepest_descent(func, gradient, learning_rate, start_point, stop_condition, write_to=None):\n",
    "    current_point = start_point\n",
    "    i = 1\n",
    "    while True:\n",
    "        print(f\"ITERATION {i}\", file=write_to)\n",
    "        gradient_value = gradient(current_point)\n",
    "        print(f\"\\tgradient_value = {gradient_value}\", file=write_to)\n",
    "        step_size = learning_rate * gradient_value\n",
    "        print(f\"\\tstep_size = {step_size}\", file=write_to)\n",
    "        next_point = current_point - step_size \n",
    "        print(f\"\\tnext_point = {next_point}\", file=write_to)\n",
    "        print(f\"\\tf({next_point}) = {func(next_point)}\", file=write_to)\n",
    "\n",
    "        if stop_condition(current_point, next_point, write_to=write_to):\n",
    "            print(f\"Reached stop condition at {next_point}, value = {func(next_point)}\", file=write_to)\n",
    "            break \n",
    "        i += 1\n",
    "        current_point = next_point\n",
    "    \n",
    "\n",
    "    return current_point\n",
    "\n",
    "\n",
    "def func(X):\n",
    "    return np.sum(X ** 2)\n",
    "\n",
    "def gradient(X):\n",
    "    return X * 2\n",
    "\n",
    "def L1_norm(X):\n",
    "    return np.sum(np.abs(X))\n",
    "\n",
    "def L2_norm(X):\n",
    "    return np.sqrt(np.sum(X ** 2))\n",
    "\n",
    "def stop(current_point, next_point, error, write_to=None):\n",
    "    computed = L2_norm(current_point - next_point)\n",
    "    print(f\"L2 = {computed}\", file=write_to) \n",
    "    return computed < error \n"
   ]
  },
  {
   "cell_type": "code",
   "execution_count": 4,
   "metadata": {},
   "outputs": [
    {
     "name": "stdout",
     "output_type": "stream",
     "text": [
      "f([0.0065536 0.0065536]) = 8.589934592000008e-05\n"
     ]
    }
   ],
   "source": [
    "h_i = 0.3\n",
    "x_start = np.array([4, 4])\n",
    "with open(os.path.join(DATA_DIR, \"ex1.txt\"), mode='w') as f:\n",
    "    result = steepest_descent(func, gradient, h_i, x_start, partial(stop, error=0.01), write_to=f)\n",
    "    print(f\"f({result}) = {func(result)}\")"
   ]
  },
  {
   "cell_type": "code",
   "execution_count": 5,
   "metadata": {},
   "outputs": [
    {
     "data": {
      "text/plain": [
       "array([2, 3])"
      ]
     },
     "execution_count": 5,
     "metadata": {},
     "output_type": "execute_result"
    }
   ],
   "source": [
    "v1 = np.array([3, 4])\n",
    "v2 = np.array([1, 1])\n",
    "\n",
    "# Subtraction is element-wise\n",
    "v1 - v2"
   ]
  },
  {
   "cell_type": "code",
   "execution_count": 6,
   "metadata": {},
   "outputs": [
    {
     "name": "stdout",
     "output_type": "stream",
     "text": [
      "Optimization terminated successfully.\n",
      "         Current function value: 0.000000\n",
      "         Iterations: 44\n",
      "         Function evaluations: 80\n"
     ]
    },
    {
     "data": {
      "text/plain": [
       "9.503461544006107e-10"
      ]
     },
     "execution_count": 6,
     "metadata": {},
     "output_type": "execute_result"
    }
   ],
   "source": [
    "scipy_min = fmin(func, x0=x_start)\n",
    "func(scipy_min)"
   ]
  },
  {
   "attachments": {},
   "cell_type": "markdown",
   "metadata": {},
   "source": [
    "Exercise 2\n",
    "Minimum tej funkcji znajduje się w punkcie (1, 1)"
   ]
  },
  {
   "cell_type": "code",
   "execution_count": 7,
   "metadata": {},
   "outputs": [
    {
     "name": "stdout",
     "output_type": "stream",
     "text": [
      "f([0.43228954 0.07528693]) = 0.35342448875174604\n"
     ]
    }
   ],
   "source": [
    "def func(X):\n",
    "    return 2.5 * (X[0] ** 2 - X[1]) ** 2 + (1 - X[0]) ** 2\n",
    "\n",
    "def gradient(X):\n",
    "    return np.array([10 * X[0] ** 3 - 10 * X[0] * X[1] + 2 * X[0] - 2, \n",
    "                     -5 * (X[0] ** 2 - X[1])])\n",
    "\n",
    "h_i = 0.1\n",
    "x_start = np.array([-0.5, 1])\n",
    "with open(os.path.join(DATA_DIR, \"ex2.txt\"), mode='w') as f:\n",
    "    result = steepest_descent(func, gradient, h_i, x_start, partial(stop, error=0.1), write_to=f)\n",
    "    print(f\"f({result}) = {func(result)}\")"
   ]
  },
  {
   "cell_type": "code",
   "execution_count": 8,
   "metadata": {},
   "outputs": [
    {
     "name": "stdout",
     "output_type": "stream",
     "text": [
      "f([0.89834828 0.78934951]) = 0.011114539348035525\n",
      "f([0.89761505 0.78790576]) = 0.011275402470144028\n"
     ]
    }
   ],
   "source": [
    "h_i = 0.1\n",
    "# Iteration 37\n",
    "with open(os.path.join(DATA_DIR, \"ex2_a.txt\"), mode='w') as f:\n",
    "    result = steepest_descent(func, gradient, h_i, x_start, partial(stop, error=0.01), write_to=f)\n",
    "    print(f\"f({result}) = {func(result)}\")\n",
    "\n",
    "h_i = 0.01\n",
    "with open(os.path.join(DATA_DIR, \"ex2_b.txt\"), mode='w') as f:\n",
    "    result = steepest_descent(func, gradient, h_i, x_start, partial(stop, error=0.001), write_to=f)\n",
    "    print(f\"f({result}) = {func(result)}\")"
   ]
  },
  {
   "cell_type": "code",
   "execution_count": 9,
   "metadata": {},
   "outputs": [
    {
     "data": {
      "text/plain": [
       "2.5"
      ]
     },
     "execution_count": 9,
     "metadata": {},
     "output_type": "execute_result"
    }
   ],
   "source": [
    "func(np.array([1, 2]))"
   ]
  },
  {
   "cell_type": "code",
   "execution_count": 10,
   "metadata": {},
   "outputs": [
    {
     "name": "stdout",
     "output_type": "stream",
     "text": [
      "Optimization terminated successfully.\n",
      "         Current function value: 0.000000\n",
      "         Iterations: 58\n",
      "         Function evaluations: 109\n"
     ]
    },
    {
     "data": {
      "text/plain": [
       "2.3379829250198353e-10"
      ]
     },
     "execution_count": 10,
     "metadata": {},
     "output_type": "execute_result"
    }
   ],
   "source": [
    "scipy_min = fmin(func, x0=x_start)\n",
    "func(scipy_min)"
   ]
  },
  {
   "attachments": {},
   "cell_type": "markdown",
   "metadata": {},
   "source": [
    "W porównaniu z metodą zmiennokrokową, w metodzie stałokrokowej nie wykonujemy dodatkowych obliczeń, więc możemy więcej iteracji zrobić"
   ]
  },
  {
   "attachments": {},
   "cell_type": "markdown",
   "metadata": {},
   "source": [
    "Exercise 3"
   ]
  },
  {
   "cell_type": "code",
   "execution_count": 11,
   "metadata": {},
   "outputs": [],
   "source": [
    "def var_steepest_descent(func, gradient, learning_rate, start_point, stop_condition, write_to=None):\n",
    "    current_point = start_point\n",
    "    i = 1\n",
    "    while True:\n",
    "        print(f\"ITERATION {i}\", file=write_to)\n",
    "        gradient_value = gradient(current_point)\n",
    "        print(f\"\\tgradient_value = {gradient_value}\", file=write_to)\n",
    "        step_size = learning_rate(current_point, gradient_value, write_to) * gradient_value\n",
    "        print(f\"\\tstep_size = {step_size}\", file=write_to)\n",
    "        next_point = current_point - step_size \n",
    "        print(f\"\\tnext_point = {next_point}\", file=write_to)\n",
    "        print(f\"\\tf({next_point}) = {func(next_point)}\", file=write_to)\n",
    "\n",
    "        if stop_condition(current_point, next_point, write_to=write_to):\n",
    "            print(f\"Reached stop condition at {next_point}, value = {func(next_point):.2f}\", file=write_to)\n",
    "            break \n",
    "        i += 1\n",
    "        current_point = next_point\n",
    "    \n",
    "\n",
    "    return current_point\n",
    "\n",
    "\n",
    "def update_learning_rate(X, gradient, write_to=None):\n",
    "    \n",
    "    def metric(alpha):\n",
    "        # This is original function\n",
    "        return np.sum((X - alpha * gradient) ** 2)\n",
    "    \n",
    "    min_alpha = fmin(metric, x0=0.01, disp=False)\n",
    "    print(f\"\\talpha = {min_alpha[0]:.2f}\", file=write_to)\n",
    "    return min_alpha[0]"
   ]
  },
  {
   "attachments": {},
   "cell_type": "markdown",
   "metadata": {},
   "source": [
    "W metodzie zmiennokrokowej wykonujemy optymalizację kierunkową współczynnika kroku. Tutaj wybieramy takie $\\alpha$, by minimalizowało funkcję wejściową"
   ]
  },
  {
   "cell_type": "code",
   "execution_count": 12,
   "metadata": {},
   "outputs": [
    {
     "name": "stdout",
     "output_type": "stream",
     "text": [
      "\talpha = 0.50\n"
     ]
    },
    {
     "data": {
      "text/plain": [
       "0.5000000000000007"
      ]
     },
     "execution_count": 12,
     "metadata": {},
     "output_type": "execute_result"
    }
   ],
   "source": [
    "update_learning_rate(np.array([4, 4]), np.array([8, 8]))"
   ]
  },
  {
   "attachments": {},
   "cell_type": "markdown",
   "metadata": {},
   "source": [
    "Tutaj potrzebowaliśmy jednego kroku, by znaleźć minimum. "
   ]
  },
  {
   "cell_type": "code",
   "execution_count": 13,
   "metadata": {},
   "outputs": [
    {
     "name": "stdout",
     "output_type": "stream",
     "text": [
      "f([-5.32907052e-15 -5.32907052e-15]) = 5.679798517591285e-29\n"
     ]
    }
   ],
   "source": [
    "def func(X):\n",
    "    return np.sum(X ** 2)\n",
    "\n",
    "def gradient(X):\n",
    "    return X * 2\n",
    "\n",
    "x_start = np.array([4, 4])\n",
    "with open(os.path.join(DATA_DIR, \"ex3.txt\"), mode='w') as f:\n",
    "    result = var_steepest_descent(func, gradient, update_learning_rate, x_start, partial(stop, error=0.01), write_to=f)\n",
    "    print(f\"f({result}) = {func(result)}\")"
   ]
  },
  {
   "attachments": {},
   "cell_type": "markdown",
   "metadata": {},
   "source": [
    "Exercise 4"
   ]
  },
  {
   "cell_type": "code",
   "execution_count": 14,
   "metadata": {},
   "outputs": [],
   "source": [
    "points = []\n",
    "\n",
    "def var_steepest_descent_2(func, gradient, learning_rate, start_point, stop_condition, write_to=None,\n",
    "                           max_iter=1000):\n",
    "    current_point = start_point\n",
    "    i = 1\n",
    "    while True:\n",
    "        print(f\"ITERATION {i}\", file=write_to)\n",
    "        gradient_value = gradient(current_point)\n",
    "        print(f\"\\tgradient_value = {gradient_value}\", file=write_to)\n",
    "        step_size = learning_rate(i, write_to) * gradient_value\n",
    "        print(f\"\\tstep_size = {step_size}\", file=write_to)\n",
    "        next_point = current_point - step_size \n",
    "        points.append(next_point)\n",
    "        print(f\"\\tnext_point = {next_point}\", file=write_to)\n",
    "        print(f\"\\tf({next_point}) = {func(next_point)}\", file=write_to)\n",
    "\n",
    "        if stop_condition(current_point, next_point, write_to=write_to) or i == max_iter:\n",
    "            print(f\"Reached stop condition at {next_point}, value = {func(next_point):.2f}\", file=write_to)\n",
    "            break \n",
    "        i += 1\n",
    "        current_point = next_point\n",
    "    \n",
    "\n",
    "    return current_point"
   ]
  },
  {
   "cell_type": "code",
   "execution_count": 15,
   "metadata": {},
   "outputs": [],
   "source": [
    "def lr1(i, write_to=None):\n",
    "    next_step = 0.0007 * i \n",
    "    print(f\"\\tnext step = {next_step:.2f}\", file=write_to)\n",
    "    return next_step\n",
    "\n",
    "def lr2(i, write_to=None):\n",
    "    next_step = 0.000701 * i \n",
    "    print(f\"\\tnext step = {next_step:.2f}\", file=write_to)\n",
    "    return next_step\n",
    "\n",
    "def lr3(i, write_to=None):\n",
    "    next_step = 0.03 * np.sqrt(i) \n",
    "    print(f\"\\tnext step = {next_step:.2f}\", file=write_to)\n",
    "    return next_step\n",
    "\n",
    "def lr4(i, write_to=None):\n",
    "    next_step = 0.03* np.power(i, 1 / 4)\n",
    "    print(f\"\\tnext step = {next_step:.2f}\", file=write_to)\n",
    "    return next_step\n"
   ]
  },
  {
   "cell_type": "code",
   "execution_count": 16,
   "metadata": {},
   "outputs": [
    {
     "name": "stdout",
     "output_type": "stream",
     "text": [
      "[a]: f([0.99054452 0.97963282]) = 9.537848629279827e-05\n",
      "[b]: f([0.99059457 0.9797404 ]) = 9.436956874481766e-05\n",
      "[d]: f([0.9889871  0.97629347]) = 0.00012940214379883423\n"
     ]
    }
   ],
   "source": [
    "methods = [lr1, lr2, lr4]\n",
    "names = ['a', 'b', 'd']\n",
    "\n",
    "def func(X):\n",
    "    return 2.5 * (X[0] ** 2 - X[1]) ** 2 + (1 - X[0]) ** 2\n",
    "\n",
    "def gradient(X):\n",
    "    return np.array([10 * X[0] ** 3 - 10 * X[0] * X[1] + 2 * X[0] - 2, \n",
    "                     -5 * (X[0] ** 2 - X[1])])\n",
    "\n",
    "\n",
    "x_start = np.array([-0.5, 1])\n",
    "\n",
    "for method, name in zip(methods, names):\n",
    "    with open(os.path.join(DATA_DIR, f\"ex4{name}.txt\"), mode='w') as f:\n",
    "        result = var_steepest_descent_2(func, gradient, method, x_start, partial(stop, error=0.001), write_to=f)\n",
    "        print(f\"[{name}]: f({result}) = {func(result)}\")"
   ]
  },
  {
   "cell_type": "code",
   "execution_count": 17,
   "metadata": {},
   "outputs": [
    {
     "name": "stderr",
     "output_type": "stream",
     "text": [
      "C:\\Users\\julia\\AppData\\Local\\Temp\\ipykernel_9984\\4056960687.py:5: RuntimeWarning: overflow encountered in double_scalars\n",
      "  return 2.5 * (X[0] ** 2 - X[1]) ** 2 + (1 - X[0]) ** 2\n",
      "C:\\Users\\julia\\AppData\\Local\\Temp\\ipykernel_9984\\2746051287.py:34: RuntimeWarning: overflow encountered in square\n",
      "  return np.sqrt(np.sum(X ** 2))\n",
      "C:\\Users\\julia\\AppData\\Local\\Temp\\ipykernel_9984\\4056960687.py:8: RuntimeWarning: overflow encountered in double_scalars\n",
      "  return np.array([10 * X[0] ** 3 - 10 * X[0] * X[1] + 2 * X[0] - 2,\n",
      "C:\\Users\\julia\\AppData\\Local\\Temp\\ipykernel_9984\\4056960687.py:9: RuntimeWarning: overflow encountered in double_scalars\n",
      "  -5 * (X[0] ** 2 - X[1])])\n",
      "C:\\Users\\julia\\AppData\\Local\\Temp\\ipykernel_9984\\4056960687.py:5: RuntimeWarning: invalid value encountered in double_scalars\n",
      "  return 2.5 * (X[0] ** 2 - X[1]) ** 2 + (1 - X[0]) ** 2\n",
      "C:\\Users\\julia\\AppData\\Local\\Temp\\ipykernel_9984\\4056960687.py:8: RuntimeWarning: invalid value encountered in double_scalars\n",
      "  return np.array([10 * X[0] ** 3 - 10 * X[0] * X[1] + 2 * X[0] - 2,\n",
      "C:\\Users\\julia\\AppData\\Local\\Temp\\ipykernel_9984\\4056960687.py:9: RuntimeWarning: invalid value encountered in double_scalars\n",
      "  -5 * (X[0] ** 2 - X[1])])\n"
     ]
    },
    {
     "name": "stdout",
     "output_type": "stream",
     "text": [
      "[d]: f([nan nan]) = nan\n"
     ]
    }
   ],
   "source": [
    "x_start = np.array([-0.5, 1])\n",
    "\n",
    "with open(os.path.join(DATA_DIR, f\"ex4_c.txt\"), mode='w') as f:\n",
    "    result = var_steepest_descent_2(func, gradient, lr3, x_start, partial(stop, error=0.001), write_to=f,\n",
    "                                        max_iter=300)\n",
    "    print(f\"[{name}]: f({result}) = {func(result)}\")"
   ]
  },
  {
   "cell_type": "code",
   "execution_count": 18,
   "metadata": {},
   "outputs": [],
   "source": [
    "len(points)\n",
    "points = np.array(points)"
   ]
  },
  {
   "cell_type": "code",
   "execution_count": 19,
   "metadata": {},
   "outputs": [
    {
     "data": {
      "text/plain": [
       "[<matplotlib.lines.Line2D at 0x25f2e231d20>]"
      ]
     },
     "execution_count": 19,
     "metadata": {},
     "output_type": "execute_result"
    },
    {
     "data": {
      "image/png": "[encoded data removed]",
      "text/plain": [
       "<Figure size 432x288 with 1 Axes>"
      ]
     },
     "metadata": {
      "needs_background": "light"
     },
     "output_type": "display_data"
    }
   ],
   "source": [
    "import matplotlib.pyplot as plt \n",
    "\n",
    "n_points = 33\n",
    "\n",
    "plt.plot(points[:n_points, 0], points[:n_points, 1])"
   ]
  },
  {
   "cell_type": "code",
   "execution_count": 74,
   "metadata": {},
   "outputs": [],
   "source": [
    "def steepest_descent_with_contraint(func, gradient, learning_rate, start_point,\n",
    "                                     stop_condition, write_to=None, max_iter=1000):\n",
    "    current_point = start_point\n",
    "    i = 1\n",
    "    while True:\n",
    "        print(f\"ITERATION {i}\", file=write_to)\n",
    "        gradient_value = gradient(current_point, i)\n",
    "        print(f\"\\tgradient_value = {gradient_value}\", file=write_to)\n",
    "        step_size = learning_rate * gradient_value\n",
    "        print(f\"\\tstep_size = {step_size}\", file=write_to)\n",
    "        next_point = current_point - step_size \n",
    "        print(f\"\\tnext_point = {next_point}\", file=write_to)\n",
    "        value = func(next_point, i)\n",
    "        print(f\"\\tf({next_point}) = {value}\", file=write_to)\n",
    "\n",
    "        if stop_condition(current_point, next_point, write_to=write_to) or i == max_iter:\n",
    "            print(f\"Reached stop condition at {next_point}, value = {value}\", file=write_to)\n",
    "            break \n",
    "        i += 1\n",
    "        current_point = next_point\n",
    "    \n",
    "\n",
    "    return current_point\n",
    "\n",
    "def stop(current_point, next_point, error, write_to=None):\n",
    "    computed = L2_norm(current_point - next_point)\n",
    "    print(f\"L2 = {computed}\", file=write_to) \n",
    "    return computed < error \n"
   ]
  },
  {
   "cell_type": "code",
   "execution_count": 75,
   "metadata": {},
   "outputs": [
    {
     "name": "stdout",
     "output_type": "stream",
     "text": [
      "-0.5879821200367064\n"
     ]
    }
   ],
   "source": [
    "class func:\n",
    "\n",
    "    def __init__(self, rate, update_rate, write_to):\n",
    "        self._rate = rate\n",
    "        self._update_rate = update_rate\n",
    "        self.write_to = write_to\n",
    "    \n",
    "    def update_rate(self, i):\n",
    "        self._rate = self._update_rate(self._rate, i)\n",
    "        print(f'\\tfunc c_{i} = {self._rate}', file=self.write_to)\n",
    "\n",
    "    def __call__(self, x, i):\n",
    "        value = (x + 1) * x * (x - 1) + self._rate * (max(0, (-x - 1)) ** 2 + max(0, (x - 1)) ** 2)\n",
    "        self.update_rate(i)\n",
    "        return value\n",
    "\n",
    "class gradient:\n",
    "\n",
    "    def __init__(self, rate, update_rate, write_to):\n",
    "        self._rate = rate\n",
    "        self._update_rate = update_rate\n",
    "        self.write_to = write_to\n",
    "    \n",
    "    def update_rate(self, i):\n",
    "        self._rate = self._update_rate(self._rate, i)\n",
    "\n",
    "    def is_feasible(self, x):\n",
    "        return (-x - 1) <= 0 and (x - 1) <= 0\n",
    "\n",
    "    def __call__(self, x, i):\n",
    "        result = 3 * x ** 2 - 1\n",
    "        if x == 1 or x == -1:\n",
    "            return 0\n",
    "        if not self.is_feasible(x):\n",
    "            result += 2 * self._rate * (((-x -1) * (-1)) + ((x - 1)))\n",
    "        self.update_rate(i)\n",
    "        print(f'\\tgrad c_{i} = {self._rate}', file=self.write_to)\n",
    "        return result \n",
    "\n",
    "start_c = 0.6\n",
    "# def update_rate(r, i):\n",
    "  #   return 2 ** (i -1) * r\n",
    "\n",
    "def update_rate(r, i):\n",
    "    return i\n",
    "\n",
    "with open(os.path.join(DATA_DIR, f\"ex3_constraint2.txt\"), mode='w') as f:\n",
    "    fun1 = func(start_c, update_rate, f)\n",
    "    grad1 = gradient(start_c, update_rate, f)\n",
    "    x_start = -1.75\n",
    "    result = steepest_descent_with_contraint(fun1, grad1, 0.01, x_start, partial(stop, error=0.01), write_to=f,\n",
    "                                        max_iter=300)\n",
    "    print(result)\n",
    "\n"
   ]
  },
  {
   "attachments": {},
   "cell_type": "markdown",
   "metadata": {},
   "source": [
    "Funkcja nie jest rozniczkowalna w x = - 1 ani w x = 1, ponieważ jest to punkt 'sklejenia'"
   ]
  },
  {
   "cell_type": "code",
   "execution_count": 79,
   "metadata": {},
   "outputs": [
    {
     "name": "stdout",
     "output_type": "stream",
     "text": [
      "0.7\n"
     ]
    }
   ],
   "source": [
    "start_c = 1\n",
    "def update_rate(r, i):\n",
    "    return i\n",
    "\n",
    "with open(os.path.join(DATA_DIR, f\"ex3_constraint.txt\"), mode='w') as f:\n",
    "    fun1 = func(start_c, update_rate, f)\n",
    "    grad1 = gradient(start_c, update_rate, f)\n",
    "    x_start = 0.7\n",
    "    result = steepest_descent_with_contraint(fun1, grad1, 0.01, x_start, partial(stop, error=0.01), write_to=f,\n",
    "                                        max_iter=300)\n",
    "    print(result)"
   ]
  },
  {
   "cell_type": "code",
   "execution_count": 81,
   "metadata": {},
   "outputs": [],
   "source": [
    "class func:\n",
    "\n",
    "    def __init__(self, rate, update_rate, write_to):\n",
    "        self._rate = rate\n",
    "        self._update_rate = update_rate\n",
    "        self.write_to = write_to\n",
    "    \n",
    "    def update_rate(self, i):\n",
    "        self._rate = self._update_rate(self._rate, i)\n",
    "        print(f'\\tfunc c_{i} = {self._rate}', file=self.write_to)\n",
    "\n",
    "    def __call__(self, x, i):\n",
    "        value = (x + 3) * x * (x - 3) + self._rate * (max(0, (-x - 2)) ** 2 + max(0, (x - 2)) ** 2)\n",
    "        self.update_rate(i)\n",
    "        return value\n",
    "\n",
    "class gradient:\n",
    "\n",
    "    def __init__(self, rate, update_rate, write_to):\n",
    "        self._rate = rate\n",
    "        self._update_rate = update_rate\n",
    "        self.write_to = write_to\n",
    "    \n",
    "    def update_rate(self, i):\n",
    "        self._rate = self._update_rate(self._rate, i)\n",
    "\n",
    "    def is_feasible(self, x):\n",
    "        return (-x - 2) <= 0 and (x - 2) <= 0\n",
    "\n",
    "    def __call__(self, x, i):\n",
    "        result = 3 * x ** 2 - 9\n",
    "        if x == 2 or x == -2:\n",
    "            return 0\n",
    "        if not self.is_feasible(x):\n",
    "            result += 2 * self._rate * (((-x -2) * (-1)) + ((x - 2)))\n",
    "        self.update_rate(i)\n",
    "        print(f'\\tgrad c_{i} = {self._rate}', file=self.write_to)\n",
    "        return result "
   ]
  },
  {
   "cell_type": "code",
   "execution_count": 84,
   "metadata": {},
   "outputs": [
    {
     "name": "stdout",
     "output_type": "stream",
     "text": [
      "1.6345786125985085\n",
      "1.63487788012431\n",
      "1.6330162965566544\n"
     ]
    }
   ],
   "source": [
    "start_c = 0.6\n",
    "# def update_rate(r, i):\n",
    "  #   return 2 ** (i -1) * r\n",
    "\n",
    "def update_rate(r, i):\n",
    "    return i\n",
    "\n",
    "with open(os.path.join(DATA_DIR, f\"ex4_constraint1.txt\"), mode='w') as f:\n",
    "    fun1 = func(start_c, update_rate, f)\n",
    "    grad1 = gradient(start_c, update_rate, f)\n",
    "    x_start = -0.75\n",
    "    result = steepest_descent_with_contraint(fun1, grad1, 0.01, x_start, partial(stop, error=0.01), write_to=f,\n",
    "                                        max_iter=300)\n",
    "    print(result)\n",
    "\n",
    "with open(os.path.join(DATA_DIR, f\"ex4_constraint2.txt\"), mode='w') as f:\n",
    "    fun1 = func(start_c, update_rate, f)\n",
    "    grad1 = gradient(start_c, update_rate, f)\n",
    "    x_start = 0\n",
    "    result = steepest_descent_with_contraint(fun1, grad1, 0.01, x_start, partial(stop, error=0.01), write_to=f,\n",
    "                                        max_iter=300)\n",
    "    print(result)\n",
    "\n",
    "with open(os.path.join(DATA_DIR, f\"ex4_constraint1.txt\"), mode='w') as f:\n",
    "    fun1 = func(start_c, update_rate, f)\n",
    "    grad1 = gradient(start_c, update_rate, f)\n",
    "    x_start = 0.75\n",
    "    result = steepest_descent_with_contraint(fun1, grad1, 0.01, x_start, partial(stop, error=0.01), write_to=f,\n",
    "                                        max_iter=300)\n",
    "    print(result)"
   ]
  },
  {
   "cell_type": "code",
   "execution_count": 4,
   "metadata": {},
   "outputs": [
    {
     "name": "stdout",
     "output_type": "stream",
     "text": [
      "Reached stop condition at 0.482960212434878, value = 0.2332505667951425\n"
     ]
    },
    {
     "data": {
      "text/plain": [
       "[(10, 100),\n",
       " (9.8, 96.04000000000002),\n",
       " (9.604000000000001, 92.23681600000002),\n",
       " (9.41192, 88.5842380864),\n",
       " (9.2236816, 85.07630225817857),\n",
       " (9.039207968000001, 81.70728068875471),\n",
       " (8.858423808640001, 78.47167237348003),\n",
       " (8.6812553324672, 75.36419414749021),\n",
       " (8.507630225817856, 72.37977205924958),\n",
       " (8.337477621301499, 69.5135330857033),\n",
       " (8.17072806887547, 66.76079717550945),\n",
       " (8.00731350749796, 64.11706960735928),\n",
       " (7.847167237348001, 61.578033650907855),\n",
       " (7.690223892601041, 59.139543518331905),\n",
       " (7.5364194147490196, 56.79761759500595),\n",
       " (7.385691026454039, 54.54843193824372),\n",
       " (7.237977205924959, 52.38831403348927),\n",
       " (7.0932176618064595, 50.3137367977631),\n",
       " (6.95135330857033, 48.32131282057168),\n",
       " (6.812326242398924, 46.40778883287704),\n",
       " (6.676079717550945, 44.57004039509511),\n",
       " (6.542558123199926, 42.80506679544934),\n",
       " (6.411706960735928, 41.10998615034955),\n",
       " (6.283472821521209, 39.482030698795704),\n",
       " (6.157803365090785, 37.918542283123394),\n",
       " (6.034647297788969, 36.416968008711706),\n",
       " (5.91395435183319, 34.97485607556672),\n",
       " (5.795675264796526, 33.589851774974285),\n",
       " (5.679761759500596, 32.259693644685306),\n",
       " (5.566166524310584, 30.98220977635577),\n",
       " (5.454843193824373, 29.755314269212086),\n",
       " (5.345746329947885, 28.577003824151284),\n",
       " (5.238831403348928, 27.445354472714897),\n",
       " (5.13405477528195, 26.35851843559539),\n",
       " (5.03137367977631, 25.314721105545807),\n",
       " (4.930746206180784, 24.31225814976619),\n",
       " (4.832131282057168, 23.349492727035454),\n",
       " (4.735488656416025, 22.424852815044847),\n",
       " (4.640778883287704, 21.536828643569073),\n",
       " (4.54796330562195, 20.683970229283737),\n",
       " (4.457004039509511, 19.864885008204098),\n",
       " (4.367863958719321, 19.078235561879215),\n",
       " (4.280506679544934, 18.322737433628795),\n",
       " (4.194896545954036, 17.597157031257098),\n",
       " (4.110998615034955, 16.900309612819317),\n",
       " (4.028778642734256, 16.231057352151673),\n",
       " (3.948203069879571, 15.588307481006469),\n",
       " (3.8692390084819794, 14.971010504758612),\n",
       " (3.79185422831234, 14.378158488770172),\n",
       " (3.716017143746093, 13.808783412614872),\n",
       " (3.641696800871171, 13.261955589475322),\n",
       " (3.568862864853748, 12.7367821481321),\n",
       " (3.497485607556673, 12.232405575066071),\n",
       " (3.4275358954055397, 11.748002314293455),\n",
       " (3.358985177497429, 11.282781422647433),\n",
       " (3.2918054739474805, 10.835983278310596),\n",
       " (3.225969364468531, 10.406878340489499),\n",
       " (3.1614499771791604, 9.994765958206115),\n",
       " (3.0982209776355774, 9.598973226261153),\n",
       " (3.036256558082866, 9.218853886501211),\n",
       " (2.9755314269212088, 8.853787272595765),\n",
       " (2.9160207983827844, 8.50317729660097),\n",
       " (2.857700382415129, 8.166451475655574),\n",
       " (2.800546374766826, 7.843059997219613),\n",
       " (2.7445354472714896, 7.532474821329715),\n",
       " (2.6896447383260598, 7.234188818405059),\n",
       " (2.6358518435595384, 6.947714941196217),\n",
       " (2.5831348066883475, 6.672585429524847),\n",
       " (2.5314721105545805, 6.408351046515662),\n",
       " (2.480842668343489, 6.154580345073643),\n",
       " (2.431225814976619, 5.910858963408725),\n",
       " (2.382601298677087, 5.676788948457741),\n",
       " (2.334949272703545, 5.451988106098814),\n",
       " (2.288250287249474, 5.236089377097301),\n",
       " (2.2424852815044845, 5.0287402377642465),\n",
       " (2.197635575874395, 4.829602124348783),\n",
       " (2.153682864356907, 4.63834988022457),\n",
       " (2.1106092070697686, 4.454671224967678),\n",
       " (2.0683970229283735, 4.278266244458958),\n",
       " (2.027029082469806, 4.108846901178383),\n",
       " (1.9864885008204096, 3.9461365638917187),\n",
       " (1.9467587308040015, 3.789869555961607),\n",
       " (1.9078235561879215, 3.6397907215455274),\n",
       " (1.869667085064163, 3.4956550089723244),\n",
       " (1.8322737433628797, 3.35722707061702),\n",
       " (1.7956282684956222, 3.2242808786205863),\n",
       " (1.7597157031257098, 3.096599355827211),\n",
       " (1.7245213890631956, 2.9739740213364536),\n",
       " (1.6900309612819318, 2.8562046500915304),\n",
       " (1.6562303420562932, 2.743098945947906),\n",
       " (1.6231057352151672, 2.6344722276883683),\n",
       " (1.5906436205108638, 2.530147127471909),\n",
       " (1.5588307481006465, 2.429953301224021),\n",
       " (1.5276541331386335, 2.33372715049555),\n",
       " (1.4971010504758608, 2.241311555335926),\n",
       " (1.4671590294663437, 2.1525556177446235),\n",
       " (1.4378158488770167, 2.067314415281936),\n",
       " (1.4090595318994763, 1.9854487644367713),\n",
       " (1.3808783412614867, 1.906824993365075),\n",
       " (1.353260774436257, 1.8313147236278182),\n",
       " (1.3261955589475318, 1.7587946605721563),\n",
       " (1.2996716477685812, 1.689146392013499),\n",
       " (1.2736782148132095, 1.6222561948897642),\n",
       " (1.2482046505169453, 1.5580148495721295),\n",
       " (1.2232405575066063, 1.496317461529073),\n",
       " (1.198775746356474, 1.4370632900525215),\n",
       " (1.1748002314293446, 1.3801555837664417),\n",
       " (1.1513042268007578, 1.325501422649291),\n",
       " (1.1282781422647428, 1.273011566312379),\n",
       " (1.105712579419448, 1.2226003082864092),\n",
       " (1.083598327831059, 1.1741853360782672),\n",
       " (1.0619263612744378, 1.1276875967695679),\n",
       " (1.0406878340489492, 1.083031167937493),\n",
       " (1.0198740773679702, 1.0401431336871685),\n",
       " (0.9994765958206108, 0.9989534655931566),\n",
       " (0.9794870639041986, 0.9593949083556677),\n",
       " (0.9598973226261146, 0.9214028699847832),\n",
       " (0.9406993761735923, 0.8849153163333858),\n",
       " (0.9218853886501205, 0.8498726698065837),\n",
       " (0.9034476808771181, 0.816217712082243),\n",
       " (0.8853787272595758, 0.7838954906837863),\n",
       " (0.8676711527143842, 0.7528532292527083),\n",
       " (0.8503177296600966, 0.723040241374301),\n",
       " (0.8333113750668947, 0.6944078478158788),\n",
       " (0.8166451475655567, 0.6669092970423699),\n",
       " (0.8003122446142455, 0.640499688879492),\n",
       " (0.7843059997219607, 0.6151359011998642),\n",
       " (0.7686198797275214, 0.5907765195123496),\n",
       " (0.753247482132971, 0.5673817693396604),\n",
       " (0.7381825324903115, 0.5449134512738099),\n",
       " (0.7234188818405053, 0.5233348786033669),\n",
       " (0.7089505042036952, 0.5026108174106737),\n",
       " (0.6947714941196214, 0.48270742904121106),\n",
       " (0.6808760642372289, 0.4635922148511791),\n",
       " (0.6672585429524843, 0.44523396314307234),\n",
       " (0.6539133720934346, 0.42760269820260666),\n",
       " (0.6408351046515659, 0.4106696313537834),\n",
       " (0.6280184025585346, 0.3944071139521736),\n",
       " (0.6154580345073639, 0.37878859223966754),\n",
       " (0.6031488738172166, 0.3637885639869767),\n",
       " (0.5910858963408723, 0.3493825368530924),\n",
       " (0.5792641784140549, 0.33554698839371),\n",
       " (0.5676788948457737, 0.322259327653319),\n",
       " (0.5563253169488582, 0.30949785827824755),\n",
       " (0.5451988106098811, 0.29724174309042894),\n",
       " (0.5342948343976834, 0.285470970064048),\n",
       " (0.5236089377097297, 0.2741663196495116),\n",
       " (0.5131367589555351, 0.26330933339139095),\n",
       " (0.5028740237764244, 0.2528822837890919),\n",
       " (0.4928165433008959, 0.2428681453510438)]"
      ]
     },
     "execution_count": 4,
     "metadata": {},
     "output_type": "execute_result"
    }
   ],
   "source": [
    "def steepest_descent(func, gradient, learning_rate, start_point, stop_condition):\n",
    "    current_point = start_point\n",
    "    i = 1\n",
    "    results = []\n",
    "    while True:\n",
    "        gradient_value = gradient(current_point)\n",
    "        step_size = learning_rate * gradient_value\n",
    "        next_point = current_point - step_size \n",
    "\n",
    "        results.append((current_point, func(current_point)))\n",
    "\n",
    "        if stop_condition(current_point, next_point):\n",
    "            print(f\"Reached stop condition at {next_point}, value = {func(next_point)}\")\n",
    "            break \n",
    "        i += 1\n",
    "        current_point = next_point\n",
    "\n",
    "    return results\n",
    "\n",
    "\n",
    "def L2_norm(p1, p2):\n",
    "    return np.sqrt(np.sum((p1 - p2) ** 2))\n",
    "\n",
    "\n",
    "steepest_descent(lambda x: x ** 2, lambda x: 2 * x, learning_rate=0.01, start_point=10, stop_condition=lambda p1, p2: L2_norm(p1, p2) < 0.01)"
   ]
  },
  {
   "cell_type": "code",
   "execution_count": 34,
   "metadata": {},
   "outputs": [],
   "source": [
    "class GDCRegularization:\n",
    "\n",
    "    def __init__(self, function, penalty_function, gradient, penalty_gradient, constraint,\n",
    "                                         learning_rate, precision, max_iter=100, verbose=False):\n",
    "        self.function = function\n",
    "        self.penalty_function = penalty_function\n",
    "        self.gradient = gradient\n",
    "        self.penalty_gradient = penalty_gradient\n",
    "        self.constraint = constraint\n",
    "        self.learning_rate = learning_rate\n",
    "        self.penalty_term = None \n",
    "        self.penalty_term_increase = None\n",
    "        self.precision = precision\n",
    "        self.max_iter = max_iter\n",
    "        self.verbose = verbose\n",
    "\n",
    "        self.function_value = 0.0\n",
    "        self.penalty_value = 0.0\n",
    "        self.value = 0.0\n",
    "        self.gradient_value = 0.0 \n",
    "        self.penalty_term = 0.0 \n",
    "        self.current_point = None\n",
    "        self.next_point = None \n",
    "        self.previous_point = None \n",
    "\n",
    "    def l2_norm(self, p1, p2):\n",
    "        return np.sqrt(np.sum((p1 - p2) ** 2))\n",
    "    \n",
    "    def sgd(self):\n",
    "\n",
    "        self.j = 1\n",
    "\n",
    "        while True:\n",
    "            add_penalty = [not constr for constr in self.constraint(self.current_point)]\n",
    "\n",
    "            self.function_value = self.function(self.current_point)\n",
    "            self.penalty_value = self.penalty_term * self.penalty_function(self.current_point)\n",
    "            self.value = self.function_value + self.penalty_value\n",
    "\n",
    "            self.gradient_value = self.gradient(self.current_point) + self.penalty_term * sum([a * b for a, b in zip(add_penalty, self.penalty_gradient(self.current_point))])\n",
    "\n",
    "            step_size = self.learning_rate * self.gradient_value\n",
    "            self.next_point = self.current_point - step_size\n",
    "\n",
    "            if self.verbose:\n",
    "                print(\"\\t\", self.format())\n",
    "\n",
    "            if self.l2_norm(self.current_point, self.next_point) < self.precision:\n",
    "                break \n",
    "            self.j += 1\n",
    "            self.current_point = self.next_point\n",
    "\n",
    "\n",
    "    def train(self, penalty_term, penalty_term_increase, start_point):\n",
    "\n",
    "        self.current_point = start_point\n",
    "        self.penalty_term = penalty_term\n",
    "        self.previous_point = start_point\n",
    "        i = 1\n",
    "\n",
    "        while True:\n",
    "\n",
    "            # self.sgd()\n",
    "\n",
    "            def grad(x):\n",
    "                add_penalty = [not constr for constr in self.constraint(x)]\n",
    "                return self.gradient(x) + self.penalty_term * sum([a * b for a, b in zip(add_penalty, self.penalty_gradient(x))]) \n",
    "\n",
    "            def func(x):\n",
    "                self.function(x) + self.penalty_term * self.penalty_function(x)\n",
    "\n",
    "            def stop(p1, p2):\n",
    "                return self.l2_norm(p1, p2) < self.precision\n",
    "\n",
    "            self.current_point, self.function_value = steepest_descent(func, grad, self.learning_rate, self.current_point, stop)[-1]\n",
    "            \n",
    "            print(self.format())\n",
    "            \n",
    "            yield self.current_point, self.function_value\n",
    "\n",
    "            if self.l2_norm(self.current_point, self.previous_point) < self.precision:\n",
    "                break \n",
    "            \n",
    "            self.previous_point = self.current_point\n",
    "            self.penalty_term = penalty_term_increase(**{'penalty_term': self.penalty_term, 'i': i})\n",
    "            i += 1\n",
    "        \n",
    "        return self.current_point, self.function_value\n",
    "        \n",
    "\n",
    "    def format(self):\n",
    "        self.current_point = np.round(self.current_point, 2)\n",
    "        return f\"F({self.current_point}) = {self.function_value} + {self.penalty_term} * {self.penalty_value} = {self.value}, \\n\\tg={self.gradient_value}, l2={self.l2_norm(self.current_point, self.next_point)}\"\n"
   ]
  },
  {
   "cell_type": "code",
   "execution_count": 1,
   "metadata": {},
   "outputs": [],
   "source": [
    "def L2_norm(p1, p2):\n",
    "    return np.sqrt(np.sum((p1 - p2) ** 2))\n",
    "\n",
    "def solve_with_constraint(func, h, g, penalty, c, eps, start):\n",
    "    results = []\n",
    "    i = 1\n",
    "    curr_x = start\n",
    "    while True:\n",
    "\n",
    "        def F(x):\n",
    "            return func(x) + penalty * (sum((h_i ** 2 for h_i in h(x))) + sum(g_i ** 2 for g_i in g(x) if g_i > 0))\n",
    "\n",
    "        min_x = fmin(F, start, disp=False)\n",
    "        results.append((min_x, F(min_x)))\n",
    "        if L2_norm(min_x, curr_x) < eps:\n",
    "            break \n",
    "        i += 1\n",
    "        curr_x = min_x\n",
    "        penalty = c(**{'i': i, 'penalty': penalty})\n",
    "    return results     \n"
   ]
  },
  {
   "attachments": {},
   "cell_type": "markdown",
   "metadata": {},
   "source": [
    "Input function is $$ f(x_1, x_2) = x_1^2 + x_2^2$$\n",
    "\n",
    "with equality constraint $$ h(x_1, x_2) = x_1 + x_2 - 2 = 0$$\n",
    "\n",
    "where the function to optimize, without constraint, will be $$ F_i(x_1, x_2) = f(x_1, x_2) + c_i (h(x_1, x_2))^2$$\n",
    "\n",
    "and $ c_i = i, \\ i = 1, ..$, with condition that $\\lim_{i -> \\infty} = \\infty$\n",
    "\n",
    "We can solve for this without GDC, but the solution should be close anyway"
   ]
  },
  {
   "cell_type": "code",
   "execution_count": 2,
   "metadata": {},
   "outputs": [
    {
     "ename": "NameError",
     "evalue": "name 'np' is not defined",
     "output_type": "error",
     "traceback": [
      "\u001b[1;31m---------------------------------------------------------------------------\u001b[0m",
      "\u001b[1;31mNameError\u001b[0m                                 Traceback (most recent call last)",
      "\u001b[1;32mc:\\Users\\julia\\VSCode\\MSiD\\notebooks\\Gradientowe metody opt.ipynb Cell 36\u001b[0m in \u001b[0;36m<cell line: 17>\u001b[1;34m()\u001b[0m\n\u001b[0;32m     <a href='vscode-notebook-cell:/c%3A/Users/julia/VSCode/MSiD/notebooks/Gradientowe%20metody%20opt.ipynb#X50sZmlsZQ%3D%3D?line=14'>15</a>\u001b[0m lr \u001b[39m=\u001b[39m \u001b[39m0.01\u001b[39m\n\u001b[0;32m     <a href='vscode-notebook-cell:/c%3A/Users/julia/VSCode/MSiD/notebooks/Gradientowe%20metody%20opt.ipynb#X50sZmlsZQ%3D%3D?line=15'>16</a>\u001b[0m precision \u001b[39m=\u001b[39m \u001b[39m0.01\u001b[39m\n\u001b[1;32m---> <a href='vscode-notebook-cell:/c%3A/Users/julia/VSCode/MSiD/notebooks/Gradientowe%20metody%20opt.ipynb#X50sZmlsZQ%3D%3D?line=16'>17</a>\u001b[0m start_point \u001b[39m=\u001b[39m np\u001b[39m.\u001b[39marray([\u001b[39m0\u001b[39m, \u001b[39m0\u001b[39m])\n\u001b[0;32m     <a href='vscode-notebook-cell:/c%3A/Users/julia/VSCode/MSiD/notebooks/Gradientowe%20metody%20opt.ipynb#X50sZmlsZQ%3D%3D?line=18'>19</a>\u001b[0m results \u001b[39m=\u001b[39m solve_with_constraint(func1, h, \u001b[39mlambda\u001b[39;00m x: [], c_1, next_c, precision, start_point)\n\u001b[0;32m     <a href='vscode-notebook-cell:/c%3A/Users/julia/VSCode/MSiD/notebooks/Gradientowe%20metody%20opt.ipynb#X50sZmlsZQ%3D%3D?line=19'>20</a>\u001b[0m \u001b[39mprint\u001b[39m(results)\n",
      "\u001b[1;31mNameError\u001b[0m: name 'np' is not defined"
     ]
    }
   ],
   "source": [
    "def func1(x):\n",
    "    return np.sum(x ** 2)\n",
    "\n",
    "def h(x):\n",
    "    return ((np.sum(x) - 2) == 0,)\n",
    "\n",
    "def penalty1(x):\n",
    "    return (np.sum(x) - 2) ** 2\n",
    "\n",
    "c_1 = 1 \n",
    "\n",
    "def next_c(**kwargs):\n",
    "    return 10 * kwargs['i']\n",
    "\n",
    "lr = 0.01\n",
    "precision = 0.01\n",
    "start_point = np.array([0, 0])\n",
    "\n",
    "results = solve_with_constraint(func1, h, lambda x: [], c_1, next_c, precision, start_point)\n",
    "print(results)\n",
    "\n",
    "start_point = np.array([-5, -5])\n",
    "\n",
    "results = solve_with_constraint(func1, h, lambda x: [], c_1, next_c, precision, start_point)\n",
    "print(results)"
   ]
  },
  {
   "attachments": {},
   "cell_type": "markdown",
   "metadata": {},
   "source": [
    "Input function is $$ f(x_1, x_2) = (x_1 - 1)(x_2 - 1)x_1x_2$$\n",
    "under inequality constraint $$ g(x_1, x_2) = (x_1 - 1)^2 + x_2^2 - 1 \\leq 0$$\n",
    "\n",
    "The function to minimize is $$ F_i(x_1, x_2) = f(x_1, x_2) + max(0, g(x_1, x_2))^2$$"
   ]
  },
  {
   "cell_type": "code",
   "execution_count": 18,
   "metadata": {},
   "outputs": [
    {
     "name": "stdout",
     "output_type": "stream",
     "text": [
      "[(array([ 0.58855882, -0.91143631]), -0.42187499979454857), (array([ 0.58860136, -0.91145543]), -0.4218749377121321)]\n"
     ]
    }
   ],
   "source": [
    "def func2(x):\n",
    "    return (x[0] - 1) * (x[1] - 1) * x[0] * x[1]\n",
    "\n",
    "def g(x):\n",
    "    return (x[0] - 1) ** 2 + x[1] ** 2 - 1,\n",
    "\n",
    "c_1 = 1 \n",
    "\n",
    "def next_c(**kwargs):\n",
    "    return 2 ** (kwargs['i'] - 1)\n",
    "\n",
    "lr = 0.01\n",
    "precision = 0.01\n",
    "start_point = np.array([0, 1])\n",
    "\n",
    "results = solve_with_constraint(func2, lambda x: [], g, c_1, next_c, precision, start_point)\n",
    "print(results)"
   ]
  },
  {
   "cell_type": "code",
   "execution_count": 86,
   "metadata": {},
   "outputs": [
    {
     "data": {
      "image/png": "[encoded data removed]",
      "text/plain": [
       "<Figure size 1440x720 with 2 Axes>"
      ]
     },
     "metadata": {
      "needs_background": "light"
     },
     "output_type": "display_data"
    }
   ],
   "source": [
    "fig, ax = plt.subddplots(1, 2, subplot_kw={'projection': '3d'}, figsize=(20, 10))"
   ]
  },
  {
   "attachments": {},
   "cell_type": "markdown",
   "metadata": {},
   "source": [
    "We have input function $$ f(x) = (x + 1)x(x - 1)$$\n",
    "and constraints $$ g_1(x) = -x -1 \\leq 0, g_2(x) = x -1 \\leq 0$$\n",
    "\n",
    "Function to minimize is $$ F_i(x) = f(x) + c_i(max(0, g_1(x))^2 + max(0, g_2(x))^2)$$"
   ]
  },
  {
   "cell_type": "code",
   "execution_count": 9,
   "metadata": {},
   "outputs": [
    {
     "name": "stdout",
     "output_type": "stream",
     "text": [
      "[(array([-6.338253e+28]), array([-2.54629497e+86])), (array([-6.338253e+28]), array([-2.54629497e+86]))]\n",
      "[(array([-1.10919428e+29]), array([-1.36465496e+87])), (array([-1.10919428e+29]), array([-1.36465496e+87]))]\n",
      "[(array([-3.1691265e+29]), array([-3.18286871e+88])), (array([0.57733154]), array([-0.38490018])), (array([0.57733154]), array([-0.38490018]))]\n"
     ]
    }
   ],
   "source": [
    "def func3(x):\n",
    "    return (x + 1) * x * (x - 1)\n",
    "\n",
    "def g(x):\n",
    "    return -x - 1, x - 1\n",
    "\n",
    "c_1 = 1\n",
    "precision = 0.01\n",
    "\n",
    "def next_c(**kwargs):\n",
    "    return kwargs['i']\n",
    "\n",
    "results = solve_with_constraint(func3, lambda x: [], g, c_1, next_c, precision, -1)\n",
    "print(results)\n",
    "\n",
    "results = solve_with_constraint(func3, lambda x: [], g, c_1, next_c, precision, -1.75)\n",
    "print(results)\n",
    "\n",
    "def next_c(**kwargs):\n",
    "    return 100 ** kwargs['i']\n",
    "\n",
    "results = solve_with_constraint(func3, lambda x: [], g, c_1, next_c, precision, -5)\n",
    "print(results)\n",
    "\n",
    "# wywala sie\n",
    "# results = solve_with_constraint(func3, lambda x: [], constraint3, c_1, next_c, precision, -1.75)"
   ]
  },
  {
   "cell_type": "code",
   "execution_count": 25,
   "metadata": {},
   "outputs": [
    {
     "data": {
      "text/plain": [
       "6.6875"
      ]
     },
     "execution_count": 25,
     "metadata": {},
     "output_type": "execute_result"
    }
   ],
   "source": [
    "# It should only punish for the first inequality\n",
    "grad3(-1.75) + 2 * (-1.75 + 1)dd"
   ]
  },
  {
   "cell_type": "code",
   "execution_count": 109,
   "metadata": {},
   "outputs": [
    {
     "data": {
      "image/png": "[encoded data removed]",
      "text/plain": [
       "<Figure size 432x288 with 1 Axes>"
      ]
     },
     "metadata": {
      "needs_background": "light"
     },
     "output_type": "display_data"
    }
   ],
   "source": [
    "x, y = (zip(*results))\n",
    "x, y = np.array(x), np.array(y)\n",
    "\n",
    "plt.scatter(x, y)\n",
    "_ = plt.title('Gradient Descent')"
   ]
  },
  {
   "attachments": {},
   "cell_type": "markdown",
   "metadata": {},
   "source": [
    "Input function is $$ f(x) = (x + 3)x(x - 3)$$ with constraints $$ g_1(x) = -x -2 \\leq 0, g_1(x) = x -2 \\leq 0$$ \n",
    "\n",
    "Function to minimize is $$ F_i(x) = f(x) + c_i(max(0, g_1(x))^2 + max(0, g_2(x))^2)$$"
   ]
  },
  {
   "cell_type": "code",
   "execution_count": 14,
   "metadata": {},
   "outputs": [
    {
     "name": "stdout",
     "output_type": "stream",
     "text": [
      "[(array([-1.10919428e+29]), array([-1.36465496e+87])), (array([-1.10919428e+29]), array([-1.36465496e+87]))]\n",
      "[(array([-1.2676506e+29]), array([-2.03703598e+87])), (array([-1.2676506e+29]), array([-2.03703598e+87]))]\n",
      "[(array([-6.338253e+29]), array([-2.54629497e+89])), (array([1.73205566]), array([-10.39230485])), (array([1.73205566]), array([-10.39230485]))]\n"
     ]
    }
   ],
   "source": [
    "def func4(x):\n",
    "    return (x + 3) * x * (x - 3)\n",
    "\n",
    "def g(x):\n",
    "    return -x - 2, x - 2\n",
    "\n",
    "c_1 = 1\n",
    "def next_c(**kwargs):\n",
    "    return kwargs['i']\n",
    "\n",
    "results = solve_with_constraint(func4, lambda x: [], g, c_1, next_c, precision, -1.75)\n",
    "print(results)\n",
    "\n",
    "results = solve_with_constraint(func4, lambda x: [], g, c_1, next_c, precision, -2)\n",
    "\n",
    "print(results)\n",
    "\n",
    "def next_c(**kwargs):\n",
    "    return 100 ** kwargs['i']\n",
    "\n",
    "results = solve_with_constraint(func4, lambda x: [], g, c_1, next_c, precision, -10)\n",
    "print(results)"
   ]
  },
  {
   "attachments": {},
   "cell_type": "markdown",
   "metadata": {},
   "source": [
    "### Minimum with Pareto method\n",
    "\n",
    "If we have $f_i(x)$ functions, we can merge them together $$ F(x) = \\sum_{i=0}^k \\alpha_i f_i(x)$$ where $$ \\sum_{i=0}^k \\alpha_i = 1$$ "
   ]
  },
  {
   "cell_type": "code",
   "execution_count": null,
   "metadata": {},
   "outputs": [],
   "source": [
    "def are_coefficients_valid(alphas):\n",
    "    return np.sum(alphas) == 1\n",
    "\n",
    "def concat_functions(functions, alphas):\n",
    "    \n",
    "    def inner(x):\n",
    "        func_values = [fun(x) for fun in functions]\n",
    "        for i, fun_val in enumerate(func_values):\n",
    "            print(f\"a_i * f_i({x}) = {alphas[i]} * {fun_val} = {alphas[i] * fun_val}\")\n",
    "        return np.sum(func_values * alphas)\n",
    "    return inner \n",
    "        "
   ]
  }
 ],
 "metadata": {
  "kernelspec": {
   "display_name": "DataCampTutorials",
   "language": "python",
   "name": "python3"
  },
  "language_info": {
   "codemirror_mode": {
    "name": "ipython",
    "version": 3
   },
   "file_extension": ".py",
   "mimetype": "text/x-python",
   "name": "python",
   "nbconvert_exporter": "python",
   "pygments_lexer": "ipython3",
   "version": "3.10.4"
  },
  "orig_nbformat": 4
 },
 "nbformat": 4,
 "nbformat_minor": 2
}
