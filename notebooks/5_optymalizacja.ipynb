{
 "cells": [
  {
   "attachments": {},
   "cell_type": "markdown",
   "metadata": {
    "id": "65h6ycL6VHaO",
    "pycharm": {
     "name": "#%% md\n"
    }
   },
   "source": [
    "## **Optymalizacja numeryczna I**"
   ]
  },
  {
   "attachments": {},
   "cell_type": "markdown",
   "metadata": {
    "id": "jCGCCNEreGXp",
    "pycharm": {
     "name": "#%% md\n"
    }
   },
   "source": [
    "**Metody analityczne** - rozwiązanie ma postać <font color='blue'> jawnego wzoru </font>, wynik jest <font color='blue'> dokładny</font>.\n",
    "<br>\n",
    "**Metody numeryczne** - rozwiązanie uzyskiwane jest <font color='blue'> w sposób iteracyjny </font> (_metodą kolejnych przybliżeń_), wynik jest <font color='blue'> przybliżony</font>.\n",
    "\n",
    "Temat optymalizacji podzielony jest na dwie części:\n",
    "\n",
    "I.   przedstawienie sposobu korzystania z bibliotecznych implementacji metod optymalizacji, (dzisiejsze zajęcia)<br>\n",
    "II.   objaśnienie zasad działania bibliotecznych algorytmów optymalizacji. (kolejne zajęcia)\n",
    "\n",
    "Z części I dowiesz się <font color='orange'>**jak tego używać**</font>. <br>\n",
    "W II części zgłębisz <font color='orange'>**w jaki sposób to działa**</font>, co zwiększy szansę, że we własnych projektach użyjesz tych metod bardziej efektywnie.\n",
    "\n"
   ]
  },
  {
   "attachments": {},
   "cell_type": "markdown",
   "metadata": {
    "id": "YscbnI1tVR4g",
    "pycharm": {
     "name": "#%% md\n"
    }
   },
   "source": [
    "---\n",
    "### **Część I** - <font color='orange'>jak tego używać."
   ]
  },
  {
   "cell_type": "code",
   "execution_count": 1,
   "metadata": {
    "id": "Ovt9W-owVN89",
    "pycharm": {
     "name": "#%%\n"
    }
   },
   "outputs": [],
   "source": [
    "import numpy as np\n",
    "import matplotlib.pyplot as plt\n",
    "from scipy import optimize\n",
    "\n",
    "from typing import Tuple"
   ]
  },
  {
   "attachments": {},
   "cell_type": "markdown",
   "metadata": {
    "id": "fBnKFHPEWcpk",
    "pycharm": {
     "name": "#%% md\n"
    }
   },
   "source": [
    "#### **Optymalizacja bez ograniczeń**"
   ]
  },
  {
   "attachments": {},
   "cell_type": "markdown",
   "metadata": {
    "id": "1GjM_lktWVyO",
    "pycharm": {
     "name": "#%% md\n"
    }
   },
   "source": [
    "Zaczynamy od funkcji jednej zmiennej:\n",
    "$$F(x) = \\cos x - 3\\exp\\left[-(x-0.2)^2\\right]$$\n",
    "\n",
    "\n",
    "Znając bibliotekę matplotlib wykreślmy wykres ww. funkcji - pomoże nam to w analizie naszych wyników."
   ]
  },
  {
   "cell_type": "code",
   "execution_count": 3,
   "metadata": {
    "pycharm": {
     "name": "#%%\n"
    }
   },
   "outputs": [
    {
     "data": {
      "text/plain": "[<matplotlib.lines.Line2D at 0x27997a2ea40>]"
     },
     "execution_count": 3,
     "metadata": {},
     "output_type": "execute_result"
    },
    {
     "data": {
      "text/plain": "<Figure size 432x288 with 1 Axes>",
      "image/png": "[encoded data removed]"
     },
     "metadata": {
      "needs_background": "light"
     },
     "output_type": "display_data"
    }
   ],
   "source": [
    "def F(x):\n",
    "    return np.cos(x) - 3 * np.exp(- (x - 0.2) ** 2)\n",
    "\n",
    "x = np.linspace(-10, 10, 200)\n",
    "plt.plot(x, F(x))"
   ]
  },
  {
   "attachments": {},
   "cell_type": "markdown",
   "metadata": {
    "pycharm": {
     "name": "#%% md\n"
    }
   },
   "source": [
    "Znajdźmy minimum funkcji przy uzyciu domyślnych parametrów funkcji `optimize.fmin`. Domyślnie wykorzystywany algorytm to metoda Neldera-Meada."
   ]
  },
  {
   "cell_type": "code",
   "execution_count": 12,
   "metadata": {
    "colab": {
     "base_uri": "https://localhost:8080/"
    },
    "id": "fApQ0THNApO9",
    "outputId": "5211294a-31b8-42cc-dc30-d02db4d831fb",
    "pycharm": {
     "name": "#%%\n"
    }
   },
   "outputs": [
    {
     "name": "stdout",
     "output_type": "stream",
     "text": [
      "Starting point =  7.524966813924722\n",
      "Optimization terminated successfully.\n",
      "         Current function value: -1.000000\n",
      "         Iterations: 16\n",
      "         Function evaluations: 32\n",
      "[9.42476373]\n"
     ]
    }
   ],
   "source": [
    "def Fcelu(x):\n",
    "  # wykorzystaj tutaj implementację funkcji F(x) użytą do wizualizacji\n",
    "  return F(x)\n",
    "\n",
    "x_pocz = np.random.uniform(-1, 10)\n",
    "print(\"Starting point = \", x_pocz)\n",
    "x_opt = optimize.fmin(Fcelu, x_pocz)  # implementacja metody Neldera-Meada\n",
    "print(x_opt)"
   ]
  },
  {
   "attachments": {},
   "cell_type": "markdown",
   "metadata": {
    "pycharm": {
     "name": "#%% md\n"
    }
   },
   "source": [
    "Wykonaj powyższą komórkę kilkukrotnie - co zauważasz? Czy wybór punktu początkowego ma wpływ na ostateczny wynik?"
   ]
  },
  {
   "cell_type": "markdown",
   "source": [
    "Tak, ponieważ funkcja posiada wiele minimów lokalnych i jedno globalne i jeśli punkt początkowy jest blisko minimum lokalnego to wpadnie on w minimum lokalne"
   ],
   "metadata": {
    "collapsed": false,
    "pycharm": {
     "name": "#%% md\n"
    }
   }
  },
  {
   "attachments": {},
   "cell_type": "markdown",
   "metadata": {
    "id": "JhYV3HLCYm4l",
    "pycharm": {
     "name": "#%% md\n"
    }
   },
   "source": [
    "A jeżeli trzeba znaleźć maksimum?\n",
    "$$ \\arg\\max F(x) = \\arg\\min-F(x)$$"
   ]
  },
  {
   "cell_type": "code",
   "execution_count": 13,
   "metadata": {
    "colab": {
     "base_uri": "https://localhost:8080/"
    },
    "id": "dDrmWieAYqJI",
    "outputId": "99888485-f541-468a-969b-aa8ceb71fd68",
    "pycharm": {
     "name": "#%%\n"
    }
   },
   "outputs": [
    {
     "name": "stdout",
     "output_type": "stream",
     "text": [
      "Optimization terminated successfully.\n",
      "         Current function value: 0.444603\n",
      "         Iterations: 15\n",
      "         Function evaluations: 30\n",
      "[1.67971477]\n"
     ]
    }
   ],
   "source": [
    "def neg_Fcelu(x):\n",
    "  return -Fcelu(x)\n",
    "\n",
    "x_pocz = np.random.uniform(-1,4)\n",
    "x_opt = optimize.fmin(neg_Fcelu, x_pocz)\n",
    "print(x_opt)"
   ]
  },
  {
   "attachments": {},
   "cell_type": "markdown",
   "metadata": {
    "pycharm": {
     "name": "#%% md\n"
    }
   },
   "source": [
    "**Ćwiczenie 1:** wykreśl funkcję F(x), a następnie znajdź jej maksimum:\n",
    "$$F(x) = \\sin x + 1.5\\exp\\left[-x^2\\right]$$\n"
   ]
  },
  {
   "cell_type": "code",
   "execution_count": 15,
   "metadata": {
    "pycharm": {
     "name": "#%%\n"
    }
   },
   "outputs": [
    {
     "data": {
      "text/plain": "[<matplotlib.lines.Line2D at 0x27997c86080>]"
     },
     "execution_count": 15,
     "metadata": {},
     "output_type": "execute_result"
    },
    {
     "data": {
      "text/plain": "<Figure size 432x288 with 1 Axes>",
      "image/png": "[encoded data removed]"
     },
     "metadata": {
      "needs_background": "light"
     },
     "output_type": "display_data"
    }
   ],
   "source": [
    "x = np.linspace(-10, 10, 200)\n",
    "plt.plot(x, np.sin(x) + 1.5 * np.exp(- x ** 2))"
   ]
  },
  {
   "attachments": {},
   "cell_type": "markdown",
   "metadata": {
    "id": "QnFQptMtfujK",
    "pycharm": {
     "name": "#%% md\n"
    }
   },
   "source": [
    "Obsługa funkcji wielowymiarowych, czyli takich, dla których $\\mathbf{x} \\in \\Re^N$ jest analogiczna. <br>\n",
    "Zaczynamy od funkcji, której minimum jest oczywiste:\n",
    "$$F(x)=(x_1−2)^2+(x_2+1)^2, \\quad \\text{ gdzie } \\mathbf{x} = \\left[ \\begin{array}{c} x_1 \\\\ x_2 \\end{array} \\right].$$"
   ]
  },
  {
   "attachments": {},
   "cell_type": "markdown",
   "metadata": {
    "id": "AzDbV8MXaiPH",
    "pycharm": {
     "name": "#%% md\n"
    }
   },
   "source": [
    "Argument ```x``` jako tabela równoważna wektorowi $\\mathbf{x}$."
   ]
  },
  {
   "cell_type": "code",
   "execution_count": 14,
   "metadata": {
    "colab": {
     "base_uri": "https://localhost:8080/"
    },
    "id": "3tJ9KXfie4Kw",
    "outputId": "654200f6-64db-4143-80b6-1bd792b9f146",
    "pycharm": {
     "name": "#%%\n"
    }
   },
   "outputs": [
    {
     "data": {
      "text/plain": "1.25"
     },
     "execution_count": 14,
     "metadata": {},
     "output_type": "execute_result"
    }
   ],
   "source": [
    "def Fcelu(x):\n",
    "  return (x[0]-2)**2 + (x[1]+1)**2\n",
    "\n",
    "Fcelu([3,-0.5])"
   ]
  },
  {
   "attachments": {},
   "cell_type": "markdown",
   "metadata": {
    "id": "jK1AHJh4a0Jb",
    "pycharm": {
     "name": "#%% md\n"
    }
   },
   "source": [
    "Problem: współrzędnej $x_i$ odpowiada indeks ```x[i-1]```, przez co łatwo o zamieszanie.\n",
    "Lepiej zrobić to tak: "
   ]
  },
  {
   "cell_type": "code",
   "execution_count": 16,
   "metadata": {
    "id": "LVZdIQSygxGk",
    "pycharm": {
     "name": "#%%\n"
    }
   },
   "outputs": [],
   "source": [
    "def Fcelu(x):\n",
    "  x1, x2 = x       # tak zwane rozpakowanie krotki\n",
    "  return (x1-2)**2 + (x2+1)**2"
   ]
  },
  {
   "attachments": {},
   "cell_type": "markdown",
   "metadata": {
    "id": "8uXVm_N-h1cB",
    "pycharm": {
     "name": "#%% md\n"
    }
   },
   "source": [
    "Zwróć uwagę, że rozwiązanie początkowe musi być teraz dwuwymiarowe."
   ]
  },
  {
   "cell_type": "code",
   "execution_count": 17,
   "metadata": {
    "colab": {
     "base_uri": "https://localhost:8080/"
    },
    "id": "zTWlQ2zjfu-J",
    "outputId": "f9c3b697-894b-4dd5-ca4f-cc56d26c1df0",
    "pycharm": {
     "name": "#%%\n"
    }
   },
   "outputs": [
    {
     "name": "stdout",
     "output_type": "stream",
     "text": [
      "Optimum jest w punkcie [ 1.99996162 -1.00000447].\n",
      "Wartość funkcji celu w optimum to 0.000000\n"
     ]
    }
   ],
   "source": [
    "x_pocz = np.random.normal(loc=0, scale=0.1, size=2)\n",
    "x_opt = optimize.fmin(Fcelu, x_pocz, disp=False)   # tym razem wyłączam raport optymalizatora\n",
    "print(f'Optimum jest w punkcie {x_opt}.\\nWartość funkcji celu w optimum to {Fcelu(x_opt):f}')"
   ]
  },
  {
   "attachments": {},
   "cell_type": "markdown",
   "metadata": {
    "pycharm": {
     "name": "#%% md\n"
    }
   },
   "source": [
    "**ćwiczenie 2:** Wypróbuj w działaniu bardziej zaawansowane matematycznie procedury np.: \n",
    "* [`fmin_powell`](https://docs.scipy.org/doc/scipy/reference/generated/scipy.optimize.fmin_powell.html),\n",
    "* [`fmin_cg`](https://docs.scipy.org/doc/scipy/reference/generated/scipy.optimize.fmin_cg.html),\n",
    "* [`fmin_bfgs`](https://docs.scipy.org/doc/scipy/reference/generated/scipy.optimize.fmin_bfgs.html).\n",
    "\n",
    "Pomimo znacznie większego ładunku teoretycznego, stosuje się je identycznie jak procedurę `fmin`. "
   ]
  },
  {
   "cell_type": "code",
   "execution_count": 19,
   "metadata": {
    "pycharm": {
     "name": "#%%\n"
    }
   },
   "outputs": [
    {
     "name": "stdout",
     "output_type": "stream",
     "text": [
      "Optimization terminated successfully.\n",
      "         Current function value: 0.000000\n",
      "         Iterations: 2\n",
      "         Function evaluations: 36\n"
     ]
    },
    {
     "data": {
      "text/plain": "array([ 2., -1.])"
     },
     "execution_count": 19,
     "metadata": {},
     "output_type": "execute_result"
    }
   ],
   "source": [
    "import timeit\n",
    "from scipy.optimize import fmin_powell, fmin_cg, fmin_bfgs\n",
    "\n",
    "fmin_powell(Fcelu, x_pocz)"
   ]
  },
  {
   "cell_type": "code",
   "execution_count": 20,
   "metadata": {
    "pycharm": {
     "name": "#%%\n"
    }
   },
   "outputs": [
    {
     "name": "stdout",
     "output_type": "stream",
     "text": [
      "Optimization terminated successfully.\n",
      "         Current function value: 0.000000\n",
      "         Iterations: 1\n",
      "         Function evaluations: 9\n",
      "         Gradient evaluations: 3\n"
     ]
    },
    {
     "data": {
      "text/plain": "array([ 1.99999998, -1.00000002])"
     },
     "execution_count": 20,
     "metadata": {},
     "output_type": "execute_result"
    }
   ],
   "source": [
    "fmin_cg(Fcelu, x_pocz)"
   ]
  },
  {
   "cell_type": "code",
   "execution_count": 21,
   "metadata": {
    "pycharm": {
     "name": "#%%\n"
    }
   },
   "outputs": [
    {
     "name": "stdout",
     "output_type": "stream",
     "text": [
      "Optimization terminated successfully.\n",
      "         Current function value: 0.000000\n",
      "         Iterations: 2\n",
      "         Function evaluations: 9\n",
      "         Gradient evaluations: 3\n"
     ]
    },
    {
     "data": {
      "text/plain": "array([ 2.00000002, -0.99999993])"
     },
     "execution_count": 21,
     "metadata": {},
     "output_type": "execute_result"
    }
   ],
   "source": [
    "fmin_bfgs(Fcelu, x_pocz)"
   ]
  },
  {
   "attachments": {},
   "cell_type": "markdown",
   "metadata": {
    "id": "MvbMU9DTlt33",
    "pycharm": {
     "name": "#%% md\n"
    }
   },
   "source": [
    "Procedura [`minimize_scalar`](https://docs.scipy.org/doc/scipy/reference/generated/scipy.optimize.minimize_scalar.html) opakowuje różne procedury minimalizacji funkcji jednej zmiennej, pełniąc dla nich rolę interfejsu programisty. Procedura zwraca słownik zawierający najważniejsze informacje o rezultacie procesu optymalizacji. Pod kluczem `x` znajduje się rozwiązanie."
   ]
  },
  {
   "cell_type": "code",
   "execution_count": 22,
   "metadata": {
    "colab": {
     "base_uri": "https://localhost:8080/"
    },
    "id": "qILJUAlJjv40",
    "outputId": "39b1542d-c385-497f-cbc2-5ea2321d5057",
    "pycharm": {
     "name": "#%%\n"
    }
   },
   "outputs": [
    {
     "data": {
      "text/plain": "      fun: 2.1115802634983514e-15\n hess_inv: <2x2 LbfgsInvHessProduct with dtype=float64>\n      jac: array([1.01278700e-07, 2.07013996e-08])\n  message: 'CONVERGENCE: NORM_OF_PROJECTED_GRADIENT_<=_PGTOL'\n     nfev: 9\n      nit: 2\n     njev: 3\n   status: 0\n  success: True\n        x: array([ 2.00000005, -0.99999999])"
     },
     "execution_count": 22,
     "metadata": {},
     "output_type": "execute_result"
    }
   ],
   "source": [
    "optimize.minimize(Fcelu, x0=x_pocz, method='L-BFGS-B')"
   ]
  },
  {
   "attachments": {},
   "cell_type": "markdown",
   "metadata": {
    "pycharm": {
     "name": "#%% md\n"
    }
   },
   "source": [
    "**Ćwiczenie 3**: Wykonaj optymalizację metodami z ćwiczenia drugiego wykorzystując do tego interfejs `optimize.minimize`. Przyjrzyj się temu jakie dane zawiera wynik `optimize.minimize` (z czego składa się obiekt `OptimizeResult`)."
   ]
  },
  {
   "cell_type": "code",
   "execution_count": 23,
   "metadata": {
    "colab": {
     "base_uri": "https://localhost:8080/"
    },
    "id": "4AA6fUi5j9ko",
    "outputId": "e5398b7f-1c1b-42f5-836c-1a58305a43b3",
    "pycharm": {
     "name": "#%%\n"
    }
   },
   "outputs": [
    {
     "name": "stdout",
     "output_type": "stream",
     "text": [
      "   direc: array([[1., 0.],\n",
      "       [0., 1.]])\n",
      "     fun: 2.465190328815662e-31\n",
      " message: 'Optimization terminated successfully.'\n",
      "    nfev: 36\n",
      "     nit: 2\n",
      "  status: 0\n",
      " success: True\n",
      "       x: array([ 2., -1.])\n",
      "     fun: 8.602146975379073e-16\n",
      "     jac: array([-2.82868644e-08, -2.47933376e-08])\n",
      " message: 'Optimization terminated successfully.'\n",
      "    nfev: 9\n",
      "     nit: 1\n",
      "    njev: 3\n",
      "  status: 0\n",
      " success: True\n",
      "       x: array([ 1.99999998, -1.00000002])\n",
      "      fun: 5.07069608608098e-15\n",
      " hess_inv: array([[0.58185122, 0.18500267],\n",
      "       [0.18500267, 0.91814878]])\n",
      "      jac: array([5.03072393e-08, 1.52847506e-07])\n",
      "  message: 'Optimization terminated successfully.'\n",
      "     nfev: 9\n",
      "      nit: 2\n",
      "     njev: 3\n",
      "   status: 0\n",
      "  success: True\n",
      "        x: array([ 2.00000002, -0.99999993])\n"
     ]
    }
   ],
   "source": [
    "print(optimize.minimize(Fcelu, x0=x_pocz, method='Powell'))\n",
    "print(optimize.minimize(Fcelu, x0=x_pocz, method='CG'))\n",
    "print(optimize.minimize(Fcelu, x0=x_pocz, method='BFGS'))"
   ]
  },
  {
   "attachments": {},
   "cell_type": "markdown",
   "metadata": {
    "id": "OhKaVK8WkK18",
    "pycharm": {
     "name": "#%% md\n"
    }
   },
   "source": [
    "W trudnych sytuacjach tonący brzytwy się chwyta, a w dziedzinie optymalizacji brzytwą jest metoda przeglądu zupełnego (ang. *brute force*, *grid search*).<br>\n",
    "Należy określić z góry kostkę w $N$-wymiarowej przestrzeni rozwiązań, która będzie brutalnie przeszukiwana."
   ]
  },
  {
   "cell_type": "code",
   "execution_count": 24,
   "metadata": {
    "colab": {
     "base_uri": "https://localhost:8080/"
    },
    "id": "IBIRS6jikFdg",
    "outputId": "3c445c6e-81f5-4c61-99d9-7749036e785c",
    "pycharm": {
     "name": "#%%\n"
    }
   },
   "outputs": [
    {
     "data": {
      "text/plain": "array([ 1.99999946, -1.000045  ])"
     },
     "execution_count": 24,
     "metadata": {},
     "output_type": "execute_result"
    }
   ],
   "source": [
    "optimize.brute(Fcelu, (slice(-2, 2, 0.1), slice(1, 6, 0.1)))"
   ]
  },
  {
   "attachments": {},
   "cell_type": "markdown",
   "metadata": {
    "id": "g_zz-LJ7aPu5",
    "pycharm": {
     "name": "#%% md\n"
    }
   },
   "source": [
    "### **Optymalizacja z ograniczeniami**\n"
   ]
  },
  {
   "attachments": {},
   "cell_type": "markdown",
   "metadata": {
    "id": "CQBMRNJzodCz",
    "pycharm": {
     "name": "#%% md\n"
    }
   },
   "source": [
    "Najłatwiej obsłużyć ograniczenia w postaci prostych **przedziałów dozwolonych wartości**, które wycinają z przestrzeni rozwiązań $N$-wymiarową kostkę."
   ]
  },
  {
   "attachments": {},
   "cell_type": "markdown",
   "metadata": {
    "id": "54TG31acaPu9",
    "pycharm": {
     "name": "#%% md\n"
    }
   },
   "source": [
    "Funkcja celu: \n",
    "$$F(\\mathbf{x}) = (x_1-1)^2 + (x_2+2)^2 + x_1x_2$$\n",
    "Ograniczenia: \n",
    "$$3.5 \\leq x_1 \\leq 6$$\n",
    "$$-5 \\leq x_2 \\leq -2$$"
   ]
  },
  {
   "cell_type": "code",
   "execution_count": 25,
   "metadata": {
    "colab": {
     "base_uri": "https://localhost:8080/"
    },
    "id": "Zgl1NMDpaPvA",
    "outputId": "f4748478-f39c-452c-f5d0-fafeaa2bbf88",
    "pycharm": {
     "name": "#%%\n"
    }
   },
   "outputs": [
    {
     "name": "stdout",
     "output_type": "stream",
     "text": [
      "[ 3.5        -3.74999999]\n"
     ]
    }
   ],
   "source": [
    "def Fcelu(x):\n",
    "    x1, x2 = x\n",
    "    return (x1-1)**2 + (x2+2)**2 +x1*x2\n",
    "\n",
    "ograniczenia = {'x1': (3.5, 6), 'x2': (-5,-2)}\n",
    "x_pocz = (\n",
    "    np.random.uniform(*ograniczenia['x1']),\n",
    "    np.random.uniform(*ograniczenia['x2'])\n",
    ")\n",
    "\n",
    "x_opt = optimize.minimize(\n",
    "    Fcelu, x_pocz, method='TNC', bounds=list(ograniczenia.values())\n",
    ").x\n",
    "print(x_opt)"
   ]
  },
  {
   "attachments": {},
   "cell_type": "markdown",
   "metadata": {
    "id": "TKdf0QgmaXeF",
    "pycharm": {
     "name": "#%% md\n"
    }
   },
   "source": [
    "**Ograniczenia jako funkcje** $g$ <br>\n",
    "\n",
    "Dla tej samej funkcji celu, co wcześniej wymieniamy ograniczenie na:<br>\n",
    "$g(\\mathbf{x}) = x_2 + 2 + 2(x_1-3)^2 - (x_1 - 3)^4 \\geq 0$. <br>\n",
    "Zwróć uwagę, że w optymalizatorze obowiązuje konwencja $g(x) \\geq 0$, odwrotna niż na wykładzie."
   ]
  },
  {
   "cell_type": "code",
   "execution_count": 26,
   "metadata": {
    "colab": {
     "base_uri": "https://localhost:8080/"
    },
    "id": "yfFOPMoKaXeH",
    "outputId": "10f97569-e31b-4753-d5dd-24050399f3c3",
    "pycharm": {
     "name": "#%%\n"
    }
   },
   "outputs": [
    {
     "name": "stdout",
     "output_type": "stream",
     "text": [
      "[ 2.193148   -2.87820609]\n"
     ]
    }
   ],
   "source": [
    "def g(x):\n",
    "    x1, x2 = x\n",
    "    return x2 + 2 + 2*(x1-3)**2 - (x1-3)**4\n",
    "\n",
    "ograniczenia = {'type': 'ineq', 'fun': g}\n",
    "x_pocz = np.random.uniform(-5,5, size=2)\n",
    "\n",
    "x_opt = optimize.minimize(\n",
    "    Fcelu, x_pocz, method='SLSQP', constraints=ograniczenia\n",
    ").x\n",
    "print(x_opt)"
   ]
  },
  {
   "attachments": {},
   "cell_type": "markdown",
   "metadata": {
    "id": "r0L3uWlclDzH",
    "pycharm": {
     "name": "#%% md\n"
    }
   },
   "source": [
    "Wypróbujmy inny optymalizator: [```fmin_cobyla```](https://docs.scipy.org/doc/scipy/reference/generated/scipy.optimize.fmin_cobyla.html).<br>\n",
    "Funkcja celu:  \n",
    "$F(\\mathbf{x}) = x_1 x_2$  \n",
    "Ograniczenia:  \n",
    "$x_1^2 + x_2^2 \\leq 1$  \n",
    "$x_2 \\geq 0$ <br>\n",
    "Zauważ, że procedura zakłada ograniczenia nierównościowe w postaci $g(\\mathbf{x}) > 0$, odwrotnie niż na naszych zajęciach."
   ]
  },
  {
   "cell_type": "code",
   "execution_count": 27,
   "metadata": {
    "colab": {
     "base_uri": "https://localhost:8080/"
    },
    "id": "EjZyO2g2k-Rw",
    "outputId": "10d5a6c8-9a9e-4e10-d175-e8637894fe1a",
    "pycharm": {
     "name": "#%%\n"
    }
   },
   "outputs": [
    {
     "name": "stdout",
     "output_type": "stream",
     "text": [
      "Minimum: [9.99756318e-01 6.37236764e-62]\n",
      "g1: 0.000487\n",
      "g2: 0.000000\n"
     ]
    }
   ],
   "source": [
    "def Fcelu(x):\n",
    "    x1, x2 = x\n",
    "    return x1*x2\n",
    "\n",
    "def g1(x):\n",
    "    x1, x2 = x\n",
    "    return 1 - (x1**2 + x2**2)\n",
    "\n",
    "def g2(x):\n",
    "    x1, x2 = x\n",
    "    return x2\n",
    "\n",
    "x_pocz = np.random.uniform(0, 1, size=2)\n",
    "x_opt = optimize.fmin_cobyla(Fcelu, x_pocz, cons=[g1, g2])\n",
    "\n",
    "print(f'Minimum: {x_opt}')\n",
    "print(f'g1: {g1(x_opt):f}')\n",
    "print(f'g2: {g2(x_opt):f}')"
   ]
  },
  {
   "attachments": {},
   "cell_type": "markdown",
   "metadata": {
    "pycharm": {
     "name": "#%% md\n"
    }
   },
   "source": [
    "**Ćwiczenie 4:** Wykorzystaj optymalizator `fmin_cobyla`:\n",
    "\n",
    "Funkcja celu:\n",
    "$F(\\mathbf{x}) = 2x_1 x_2 x_3$\n",
    "\n",
    "Ograniczenia:  \n",
    "$2x_1^2 + x_2^2 - x_3^3 \\leq 3$  \n",
    "$3\\geq  x_2 \\geq 0$ <br>\n",
    "$x_3 \\geq 1$ <br>"
   ]
  },
  {
   "cell_type": "code",
   "execution_count": null,
   "metadata": {
    "pycharm": {
     "name": "#%%\n"
    }
   },
   "outputs": [],
   "source": [
    "def Fcelu(x):\n",
    "    x1, x2, x3 = x\n",
    "    return 2 * x1 * x2 * x3\n",
    "\n"
   ]
  },
  {
   "attachments": {},
   "cell_type": "markdown",
   "metadata": {
    "id": "fFIQ0fBslQ8H",
    "pycharm": {
     "name": "#%% md\n"
    }
   },
   "source": [
    "**Ograniczenia równościowe**: $\\quad g(\\mathbf{x})=0$ <br>\n",
    "Funkcja celu: \n",
    "$$F(\\mathbf{x}) = -x_1^2 - x_2^2 - x_3^2$$ \n",
    "Ograniczenia: \n",
    "$$x_1 = x_3$$\n",
    "$$x_3 = x_1 + x_2 - 5$$"
   ]
  },
  {
   "cell_type": "code",
   "execution_count": null,
   "metadata": {
    "colab": {
     "base_uri": "https://localhost:8080/"
    },
    "id": "9PsRCLbNlJsI",
    "outputId": "df947465-bfba-455a-fa2f-5062de12f644",
    "pycharm": {
     "name": "#%%\n"
    }
   },
   "outputs": [],
   "source": [
    "def Fcelu(x):\n",
    "    x1, x2, x3 = x\n",
    "    return x1**2 + x2**2 + x3**2\n",
    "\n",
    "def g1(x):\n",
    "    x1, x2, x3 = x\n",
    "    return x1 - x3\n",
    "\n",
    "def g2(x):\n",
    "    x1, x2, x3 = x\n",
    "    return x1 + x2 - 5 - x3\n",
    "\n",
    "ograniczenia = ({'type': 'eq', 'fun': g1}, {'type': 'eq', 'fun': g2})\n",
    "x_pocz = np.random.uniform(0, 1, size=3)\n",
    "\n",
    "x_opt = optimize.minimize(\n",
    "    Fcelu, x_pocz, method='SLSQP', constraints=ograniczenia\n",
    ").x\n",
    "print(x_opt)"
   ]
  },
  {
   "attachments": {},
   "cell_type": "markdown",
   "metadata": {
    "id": "nK-oq48YlcPR",
    "pycharm": {
     "name": "#%% md\n"
    }
   },
   "source": [
    "W celu rozwiązania zadań __programowania liniowego__ (i ogólnie zadań _programowania_ w optymalizacji) odsyłam zainteresowane osoby do metod dedykowanych:\n",
    "* [```linprog```](https://docs.scipy.org/doc/scipy-0.18.1/reference/generated/scipy.optimize.linprog.html),\n",
    "* [cvxopt](https://cvxopt.org/) (biblioteka zewnętrzna),\n",
    "* [PuLP](https://coin-or.github.io/pulp/main/installing_pulp_at_home.html)\n",
    "\n",
    "Warto spojrzeć również do dokumentacji [scipy.optimize](https://docs.scipy.org/doc/scipy/tutorial/optimize.html) oraz ksiązki internetowej [Scipy Lecture Notes](https://scipy-lectures.org/)."
   ]
  },
  {
   "attachments": {},
   "cell_type": "markdown",
   "metadata": {
    "id": "GvqvtkIb9jIY",
    "pycharm": {
     "name": "#%% md\n"
    }
   },
   "source": [
    "**Coś więcej** niż sugestia:<br>\n",
    "Potrafisz już rozwiązać numerycznie zadania optymalizacji, które na ćwiczeniach rozwiązywane były analitycznie."
   ]
  }
 ],
 "metadata": {
  "colab": {
   "collapsed_sections": [],
   "name": "MSiD_5_optymalizacja.ipynb",
   "provenance": []
  },
  "interpreter": {
   "hash": "0b51826e000ae94bed4f869b6985bbf026c2d9e14d99dac09b729841a359c888"
  },
  "kernelspec": {
   "display_name": "Python 3.9.12 ('msid')",
   "language": "python",
   "name": "python3"
  },
  "language_info": {
   "codemirror_mode": {
    "name": "ipython",
    "version": 3
   },
   "file_extension": ".py",
   "mimetype": "text/x-python",
   "name": "python",
   "nbconvert_exporter": "python",
   "pygments_lexer": "ipython3",
   "version": "3.8.13"
  }
 },
 "nbformat": 4,
 "nbformat_minor": 0
}