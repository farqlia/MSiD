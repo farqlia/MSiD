{
 "cells": [
  {
   "attachments": {},
   "cell_type": "markdown",
   "metadata": {
    "id": "iMeXs7krhp2E",
    "pycharm": {
     "name": "#%% md\n"
    }
   },
   "source": [
    "### **Rozkład prawdopodobieństwa** można traktować jako model opisujący dane. <br> \n",
    "O takim modelu możemy mysleć jak o generatorze liczb losowych, który zwraca wyniki o rozkładzie zbliżonym do rozkładu rzeczywistych danych. *Model generatywny* to taki, który potrafi wygenerować syntetyczne dane <font color='orange'>podobne do danych rzeczywistych</font>. <br>\n",
    "Jak dopasowywać rozkłady do danych? <br>\n",
    "Oto plan notatnika.\n",
    "\n",
    "\n",
    "*   **Estymatory parametryczne**, np. z metody maksymalnej wiarygodności.\n",
    "*   Weryfikacja hipotez dotyczących rozkładów: czy dane pochodzą z określonego rozkładu?\n",
    "*   **Estymatory nieparametryczne**, np. estymator Parzena.\n",
    "\n"
   ]
  },
  {
   "attachments": {},
   "cell_type": "markdown",
   "metadata": {
    "id": "KEnj2h_v0gkK",
    "pycharm": {
     "name": "#%% md\n"
    }
   },
   "source": [
    "**Uwaga techniczna**<br>\n",
    "Zakładam, że:\n",
    "*   potrafisz rozróżniać między rozkładami dla zmiennych dyskretnych a funkcjami\n",
    "gęstości dla zmiennych ciągłych, \n",
    "*   wiesz, czym różni się prawdopodobieństwo (ang. *probability*) od wiarygodności (ang. *likelihood*),\n",
    "*   znasz procedurę wyznaczania z funkcji gęstości $f(x)$ prawdopodobieństwa, że losowa wartość $x$ wpadnie do określonego przedziału. \n",
    "\n",
    "W języku angielskim zachodzi miły zbieg okoliczności, że rozkład prawdopodobieństwa nosi nazwę *Probability Distribution Function* a funkcja gęstości *Probability Density Function*, co w obu przypadkach pozwala stosować ten sam skrót *PDF*. Z językowej zazdrości i dla uproszczenia opisów używałem i używać będę określenia *rozkład* w przypadku zarówno dyskretnym jak i ciągłym, a Ty będziesz domyślać się z kontekstu, czy chodzi o *rozkład prawdopodobieństwa*, czy o funkcję gęstości."
   ]
  },
  {
   "cell_type": "code",
   "execution_count": null,
   "metadata": {
    "id": "OXow6h9Bh6og",
    "pycharm": {
     "name": "#%%\n"
    }
   },
   "outputs": [],
   "source": [
    "import numpy as np\n",
    "import matplotlib.pyplot as plt\n",
    "import pandas as pd\n",
    "import urllib.request\n",
    "import os"
   ]
  },
  {
   "attachments": {},
   "cell_type": "markdown",
   "metadata": {
    "id": "hMKsPzMBrrX3",
    "pycharm": {
     "name": "#%% md\n"
    }
   },
   "source": [
    "#### **Estymator parametryczny** <br>\n",
    "Wzór opisujący rozkład jest z góry określony. <br>\n",
    "Wzór ten ma pewne swobodne parametry, których wartości należy estymować z danych. <br>\n",
    "Postać rozkładu nie zależy od liczby obserwacji zawartych w zbiorze danych. <br>\n",
    "Wartości parametrów rozkładu wyznaczane są w procesie optymalizacji (analitycznej lub numerycznej)."
   ]
  },
  {
   "attachments": {},
   "cell_type": "markdown",
   "metadata": {
    "id": "ta8ggbHVnlO8",
    "pycharm": {
     "name": "#%% md\n"
    }
   },
   "source": [
    "Przedstawione dane pomiarowe dotyczą studentów kierunku Inżynieria systemów; zostały zebrane w roku 2020."
   ]
  },
  {
   "cell_type": "code",
   "execution_count": null,
   "metadata": {
    "colab": {
     "base_uri": "https://localhost:8080/",
     "height": 193
    },
    "id": "f5MsiGoHnwpA",
    "outputId": "fa295fb9-c715-4ba1-ef3d-ec5659405c90",
    "pycharm": {
     "name": "#%%\n"
    }
   },
   "outputs": [],
   "source": [
    "plik = 'pomiary2020.xlsx'\n",
    "URL = \"https://byes.pl/wp-content/uploads/datasets/\" + plik\n",
    "if not os.path.isfile(plik):\n",
    "    print('Pobieram plik z ', URL)\n",
    "    urllib.request.urlretrieve(URL, plik)\n",
    "    print('Pobrano plik')\n",
    "else:\n",
    "    print(f'Plik {plik} już jest na dysku')\n",
    "\n",
    "dane = pd.read_excel(plik) \n",
    "dane.sample(4)"
   ]
  },
  {
   "attachments": {},
   "cell_type": "markdown",
   "metadata": {
    "id": "glGiNru2pOD9",
    "pycharm": {
     "name": "#%% md\n"
    }
   },
   "source": [
    "Wybierzemy jedną cechę do opisu statystycznego rozkładem normalnym:\n",
    "\\begin{equation}\n",
    "f(x; \\mu, \\sigma)=\\frac{1}{\\sigma\\sqrt{2\\pi}}\\exp\\left[-\\frac{(x-\\mu)^2}{2\\sigma^2}\\right].\n",
    "\\tag{1}\n",
    "\\end{equation}"
   ]
  },
  {
   "cell_type": "code",
   "execution_count": null,
   "metadata": {
    "colab": {
     "base_uri": "https://localhost:8080/"
    },
    "id": "RaHNcSQWnzKs",
    "outputId": "0208ae6a-e2d5-4465-bd92-032a103afc6c",
    "pycharm": {
     "name": "#%%\n"
    }
   },
   "outputs": [],
   "source": [
    "cecha = 'wzrost'\n",
    "X = dane[cecha].values\n",
    "X_mezcz = X[dane['płeć']=='M']\n",
    "X_kob = X[dane['płeć']=='K']\n",
    "print(f\"Wszystkich: {X.size}\\nKobiet: {X_kob.size}\\nMężczyzn: {X_mezcz.size}\")"
   ]
  },
  {
   "cell_type": "code",
   "execution_count": null,
   "metadata": {
    "id": "8e0vYbiwpdwV",
    "pycharm": {
     "name": "#%%\n"
    }
   },
   "outputs": [],
   "source": [
    "def rozklad_norm(parametry, x):\n",
    "    mu, sigma = parametry\n",
    "    return np.exp(-(x-mu)**2/(2*sigma**2))/(sigma*np.sqrt(2*np.pi))"
   ]
  },
  {
   "attachments": {},
   "cell_type": "markdown",
   "metadata": {
    "id": "gclvfNqFb-4_",
    "pycharm": {
     "name": "#%% md\n"
    }
   },
   "source": [
    "Estymacja parametrów rozkładu normalnego dla każdej podgrupy. <br> \n",
    "Algorytm metody największej wiarygodności (ang. *Maximum Likelihood method*) podany był na wykładzie. "
   ]
  },
  {
   "cell_type": "code",
   "execution_count": null,
   "metadata": {
    "id": "xsDDz9uhqTGs",
    "pycharm": {
     "name": "#%%\n"
    }
   },
   "outputs": [],
   "source": [
    "mu_wszyscy, sigma_wszyscy = X.mean(), X.std()\n",
    "mu_mezcz, sigma_mezcz = X_mezcz.mean(), X_mezcz.std()\n",
    "mu_kob, sigma_kob = X_kob.mean(), X_kob.std()"
   ]
  },
  {
   "attachments": {},
   "cell_type": "markdown",
   "metadata": {
    "id": "aDNisocrehKX",
    "pycharm": {
     "name": "#%% md\n"
    }
   },
   "source": [
    "Ilustracja rozkładów na tle danych, z użyciem biblioteki [```seaborn```](https://seaborn.pydata.org/index.html) dla lepszego efektu."
   ]
  },
  {
   "cell_type": "code",
   "execution_count": null,
   "metadata": {
    "colab": {
     "base_uri": "https://localhost:8080/",
     "height": 284
    },
    "id": "nWQi-97acWvl",
    "outputId": "da605b17-f7df-41f7-f99a-9085ac59b374",
    "pycharm": {
     "name": "#%%\n"
    }
   },
   "outputs": [],
   "source": [
    "os_x = np.linspace(X.min()-10, X.max()+10, num=300)\n",
    "\n",
    "os_y_wszyscy = rozklad_norm([mu_wszyscy, sigma_wszyscy], os_x)\n",
    "os_y_mezcz = rozklad_norm([mu_mezcz, sigma_mezcz], os_x)\n",
    "os_y_kob = rozklad_norm([mu_kob, sigma_kob], os_x)\n",
    "\n",
    "with plt.style.context('seaborn'):  \n",
    "    plt.figure(figsize=(9,4))\n",
    "    plt.plot(X, np.zeros_like(X), 'o', \n",
    "             markersize=10, alpha=0.5, markerfacecolor='tab:green', markeredgecolor='tab:green', \n",
    "             label='wszyscy')\n",
    "    plt.plot(os_x, 25*os_y_wszyscy, color='tab:green')\n",
    "    plt.plot(X_mezcz, np.ones_like(X_mezcz), 'P', \n",
    "             markersize=10, alpha=0.5, markerfacecolor='tab:blue', markeredgecolor='tab:blue', \n",
    "             label='mężczyźni')\n",
    "    plt.plot(os_x, 25*os_y_mezcz+1, color='tab:blue')\n",
    "    plt.plot(X_kob, 2*np.ones_like(X_kob), 'v', \n",
    "             markersize=10, alpha=0.5, markerfacecolor='tab:orange', markeredgecolor='tab:orange', \n",
    "             label='kobiety')\n",
    "    plt.plot(os_x, 25*os_y_kob+2, color='tab:orange')\n",
    "    plt.xlabel(cecha, fontsize=16)\n",
    "    plt.yticks([])\n",
    "plt.legend(shadow=True, fontsize=12)\n",
    "plt.show()"
   ]
  },
  {
   "attachments": {},
   "cell_type": "markdown",
   "metadata": {
    "id": "nMJ4voz5g8bv",
    "pycharm": {
     "name": "#%% md\n"
    }
   },
   "source": [
    "Jak oceniasz, metodą na oko (ang. *visual inspection*), czy opisywanie danych rozkładem normalnym jest uzasadnione dla każdej grupy?"
   ]
  },
  {
   "attachments": {},
   "cell_type": "markdown",
   "metadata": {
    "id": "zHVRzqo1kQSe",
    "pycharm": {
     "name": "#%% md\n"
    }
   },
   "source": [
    "**Weryfikacja hipotez** <br>\n",
    "Czy te dane w ogóle pochodzą z rozkładu normalnego?"
   ]
  },
  {
   "attachments": {},
   "cell_type": "markdown",
   "metadata": {
    "id": "Or-JecMvE_NS",
    "pycharm": {
     "name": "#%% md\n"
    }
   },
   "source": [
    "Testów statystycznych do sprawdzania normalności rozkładu danych jest wiele. Każdy bierze pod uwagę inne charakterystyczne cechy rozkładu normalnego (np. test D’Agostino i Pearsona bada skośność i kurtozę) oraz ma różną moc, co oznacza, że jedne łatwiej wykazują normalność danych a inne łatwiej wykazują jej brak. <br>\n",
    "Wybór testów na zajęcia ze statystyki zależy od preferencji prowadzącego, ale każdy test podlega tej samej standardowej procedurze weryfikacji hipotez statystycznych.    "
   ]
  },
  {
   "cell_type": "code",
   "execution_count": null,
   "metadata": {
    "colab": {
     "base_uri": "https://localhost:8080/"
    },
    "id": "0OFEnuLle61F",
    "outputId": "7adb6529-410a-4a31-9c09-fc2fd6394c96",
    "pycharm": {
     "name": "#%%\n"
    }
   },
   "outputs": [],
   "source": [
    "from scipy import stats\n",
    "\n",
    "print(f'Cały zbiór | test Shapiro, p-wartość = {stats.shapiro(X)[1]}')\n",
    "print(f'Cały zbiór | test D’Agostino i Pearsona, p-wartość = {stats.normaltest(X)[1]}\\n')\n",
    "\n",
    "print(f'Podzbiór kobiety | test Shapiro, p-wartość = {stats.shapiro(X_kob)[1]}')\n",
    "print(f'Podzbiór kobiety | test D’Agostino i Pearsona, p-wartość = {stats.normaltest(X_kob)[1]}\\n')\n",
    "\n",
    "print(f'Podzbiór mężczyźni | test Shapiro, p-wartość = {stats.shapiro(X_mezcz)[1]}')\n",
    "print(f'Podzbiór mężczyźni | test D’Agostino i Pearsona, p-wartość = {stats.normaltest(X_mezcz)[1]}\\n')"
   ]
  },
  {
   "attachments": {},
   "cell_type": "markdown",
   "metadata": {
    "id": "YDqPBfAqw7W_",
    "pycharm": {
     "name": "#%% md\n"
    }
   },
   "source": [
    "Czy umiesz zinterpretować te wyniki?"
   ]
  },
  {
   "attachments": {},
   "cell_type": "markdown",
   "metadata": {
    "id": "D1eCNX3Cr9Oq",
    "pycharm": {
     "name": "#%% md\n"
    }
   },
   "source": [
    "**Zagadka** sprawdzająca Twoje przygotowanie statystyczne. <br>\n",
    "Jak wyjaśnić poniższe wyniki?"
   ]
  },
  {
   "cell_type": "code",
   "execution_count": null,
   "metadata": {
    "colab": {
     "base_uri": "https://localhost:8080/"
    },
    "id": "KiBlBHqjsQPJ",
    "outputId": "aa8e405b-d0df-4d1e-e57b-4048c9034151",
    "pycharm": {
     "name": "#%%\n"
    }
   },
   "outputs": [],
   "source": [
    "print('=== Test Shapiro ===')\n",
    "print(f\"Dla wagi p-wartość = {stats.shapiro(dane['waga'].values)[1]:0.3f}\")\n",
    "print(f\"Dla wzrostu p-wartość = {stats.shapiro(dane['wzrost'].values)[1]:0.3f}\")\n",
    "print(f\"Łącznie p-wartość = {stats.shapiro(dane[['waga', 'wzrost']].values)[1]:0.3f}\")"
   ]
  },
  {
   "attachments": {},
   "cell_type": "markdown",
   "metadata": {
    "id": "eo2tPoF_nk62",
    "pycharm": {
     "name": "#%% md\n"
    }
   },
   "source": [
    "#### **O rozkładzie normalnym**"
   ]
  },
  {
   "attachments": {},
   "cell_type": "markdown",
   "metadata": {
    "id": "p4boPOcE3gSS",
    "pycharm": {
     "name": "#%% md\n"
    }
   },
   "source": [
    "W dawnych czasach przedkomputerowych, gdy statystyka dopiero formowała się jako dyscyplina a zbiory danych przechowywane były na cennych kartkach papieru, jednym z niewielu rodzajów regularności jakie można było się dopatrzyć w danych, był rozkład normalny. <br>\n",
    "Wynikało to z ograniczonych możliwości pomiarowych i obliczeniowych w porównaniu z dzisiejszymi czasami. <br>\n",
    "Do dziś funkcjonuje jednak legenda miejska, jakoby rozkład normalny był najczęściej spotykanym ,,w przyrodzie''. Zdarza się, że dokładane jest do niej ,,uzasadnienie'' rzekomej powszechności. Wywoływane jest wóczas centralne twierdzenie graniczne, przy czym nie dba się o to, czy w rzeczywistości spełnione są założenia o niezależności i addytywności zmiennych losowych, które leżą u podstaw tego twierdzenia. <br>\n",
    "Prawda jest taka, że rozkład normalny występuje najczęściej w podręcznikach, ponieważ obliczenia z jego udziałem przebiegają prosto i dają eleganckie wyniki. Rzeczywiste dane układają się w różne rozkłady, wśród których normalny nie jest nadreprezentowany. Co więcej, w dziedzinach związanych z systemami złożonymi, których to systemów pełno jest w przyrodzie i technice, rozkład normalny jest rzadkością (regułą jest za to rozkład geometryczny). Rzecz w tym, że dopiero od stosunkowo niedawna istnieją metody i środki techniczne analizy systemów złożonych. <br>\n",
    "Rozkład normalny pełni mimo wszystko ważną rolę w nauce i technice (podobnie jak inne rozkłady) i doskonale nadaje się jako ,,klocek budulcowy'' rozkładów bardziej skomplikowanych. "
   ]
  },
  {
   "attachments": {},
   "cell_type": "markdown",
   "metadata": {
    "id": "V4L5Sb4Q26Lx",
    "pycharm": {
     "name": "#%% md\n"
    }
   },
   "source": [
    "Na początek warto więc wiedzieć, dlaczego wzór określający rozkład normalny jest taki: $$ f(x; \\mu, \\sigma)=\\frac{1}{\\sigma\\sqrt{2\\pi}}\\exp\\left[-\\frac{(x-\\mu)^2}{2\\sigma^2}\\right]$$\n",
    "a nie inny."
   ]
  },
  {
   "attachments": {},
   "cell_type": "markdown",
   "metadata": {
    "id": "OvMNfqhrDRbk",
    "pycharm": {
     "name": "#%% md\n"
    }
   },
   "source": [
    "Rozkład normalny stosuje się do opisu danych, które grupują się wokół określonej reprezentatywnej wartości (nazywanej *wartością oczekiwaną*; nie mylić z *wartością zadaną*!). Im dalej od niej, tym mniejsza szansa napotkania na jakiś pomiar. Warto zacząć od narysowania wykresu prostej i eleganckiej funkcji:\n",
    "$$f(x)=\\exp\\left[ -x\\right].$$"
   ]
  },
  {
   "cell_type": "code",
   "execution_count": null,
   "metadata": {
    "colab": {
     "base_uri": "https://localhost:8080/",
     "height": 265
    },
    "id": "CkRTaCEdD9_6",
    "outputId": "45b6d9d1-9ca8-4b81-d34d-c6a0320fa297",
    "pycharm": {
     "name": "#%%\n"
    }
   },
   "outputs": [],
   "source": [
    "os_x = np.linspace(0,3, 300)\n",
    "plt.plot(os_x, np.exp(-os_x));"
   ]
  },
  {
   "attachments": {},
   "cell_type": "markdown",
   "metadata": {
    "id": "zsiC6ipwETCc",
    "pycharm": {
     "name": "#%% md\n"
    }
   },
   "source": [
    "Ta propozycja nie wystarcza, bo dane powinny być rozrzucone symetrycznie wokół wartości oczekiwanej. Korekta nasuwa się sama:\n",
    "$$f(x)=\\exp\\left[ -|x\\right|].$$"
   ]
  },
  {
   "cell_type": "code",
   "execution_count": null,
   "metadata": {
    "colab": {
     "base_uri": "https://localhost:8080/",
     "height": 265
    },
    "id": "QKSoCMWvGQxR",
    "outputId": "4478ba7a-3bf8-4fdc-c4b1-fab79b6421c8",
    "pycharm": {
     "name": "#%%\n"
    }
   },
   "outputs": [],
   "source": [
    "os_x = np.linspace(-3,3, 300)\n",
    "plt.plot(os_x, np.exp(-abs(os_x)))"
   ]
  },
  {
   "attachments": {},
   "cell_type": "markdown",
   "metadata": {
    "id": "zyekd4MZGQae",
    "pycharm": {
     "name": "#%% md\n"
    }
   },
   "source": [
    "Niepokojąco wygląda jednak nieróżniczkowalność funkcji $f$ w wartości oczekiwanej. Ponadto wykładniczy spadek prawdopodobieństwa napotkania obserwacji wydaje się zbyt drastycznie maleć. Oto proste remedium na oba problemy na raz:\n",
    "$$f(x)=\\exp\\left[ -x^2\\right].$$"
   ]
  },
  {
   "cell_type": "code",
   "execution_count": null,
   "metadata": {
    "colab": {
     "base_uri": "https://localhost:8080/",
     "height": 265
    },
    "id": "yy409NaQk5yi",
    "outputId": "b164d16e-f26d-471b-9cd0-87c1392ed1be",
    "pycharm": {
     "name": "#%%\n"
    }
   },
   "outputs": [],
   "source": [
    "plt.plot(os_x, np.exp(-os_x**2));"
   ]
  },
  {
   "attachments": {},
   "cell_type": "markdown",
   "metadata": {
    "id": "OQiea9aCN2js",
    "pycharm": {
     "name": "#%% md\n"
    }
   },
   "source": [
    "Wartość oczekiwana nie musi leżeć w zerze, jej położenie zależy od miejsca zgrupowania danych. <br>\n",
    "Wartość oczekiwaną oznacza się symbolem $\\mu$. <br>\n",
    "Aby ulokować $f(x)$ nad zadaną wartością $\\mu$, wystarczy przesunąć argument do $x-\\mu$: <br>\n",
    "$$f(x)=\\exp\\left[ -(x-\\mu)^2\\right].$$"
   ]
  },
  {
   "attachments": {},
   "cell_type": "markdown",
   "metadata": {
    "id": "dGXrQJ-xaCry",
    "pycharm": {
     "name": "#%% md\n"
    }
   },
   "source": [
    "Ponadto zachodzi potrzeba uwzględnienia rozrzutu danych wokół $\\mu$. <br>\n",
    "W tym celu trzeba pomnożyć lub podzielić wykładnik przez drugi parametr, który oznaczymy $\\sigma$. Wybierzemy dzielenie, aby większe wartości $\\sigma$ opisywały większy rozrzut (odchylenie) danych od wartości oczekiwanej $\\mu$:\n",
    "$$\\frac{x-\\mu}{\\sigma}.$$\n",
    "Powyższy zabieg określany jest jako standaryzacja zmiennej $x$, zatem parametr $\\sigma$ określa się mianem *odchylenia standardowego*. <br>\n",
    "Otrzymujemy wzór:\n",
    "$$f(x)=\\exp\\left[ -\\left(\\frac{x-\\mu}{\\sigma}\\right)^2\\right],$$\n",
    "zapisywany w podręcznika zwyczajowo w postaci:\n",
    "$$f(x)=\\exp\\left[ -\\frac{(x-\\mu)^2}{\\sigma^2}\\right].$$\n",
    "Jeżeli ma on służyć jako rozkład, to musi spełnić warunek unormowania (pole pod całym wykresem ma być równe $1$)."
   ]
  },
  {
   "cell_type": "code",
   "execution_count": null,
   "metadata": {
    "colab": {
     "base_uri": "https://localhost:8080/"
    },
    "id": "shDCMQKRHST1",
    "outputId": "6b6bd81f-bda7-4e28-a3b3-34777f110e77",
    "pycharm": {
     "name": "#%%\n"
    }
   },
   "outputs": [],
   "source": [
    "def f(x, mu=0, sigma=1):\n",
    "  return np.exp(-((x-mu)/sigma)**2)\n",
    "\n",
    "from scipy import integrate\n",
    "print(f'Pole pod wykresem: {integrate.quad(f, -np.inf, np.inf)[0]}')"
   ]
  },
  {
   "attachments": {},
   "cell_type": "markdown",
   "metadata": {
    "id": "IKPiEKjcigtg",
    "pycharm": {
     "name": "#%% md\n"
    }
   },
   "source": [
    "Niestety, trzeba wykonać dodatkową pracę nad sprowadzeniem całki z $f(x)$ do $1$. <br>\n",
    "Oto znormalizowana wersja funkcji $f(x)$, znana pod nazwą rozkładu normalnego:\n",
    "$$ f(x; \\mu, \\sigma)=\\frac{1}{\\sigma\\sqrt{2\\pi}}\\exp\\left[-\\frac{(x-\\mu)^2}{2\\sigma^2}\\right].$$\n",
    "Obecność $\\pi$ we wzorze sugeruje, że rozkład normalny ma coś wspólnego z kołem. <br>\n",
    "W komórce poniżej narysuj wykresy rozkładu normalnego dla różnych wartości parametrów $\\mu$, $\\sigma$. Każdorazowo sprawdź pole pod wykresem."
   ]
  },
  {
   "cell_type": "code",
   "execution_count": null,
   "metadata": {
    "id": "m5IxLmlu9vlu",
    "pycharm": {
     "name": "#%%\n"
    }
   },
   "outputs": [],
   "source": [
    "# Oto komórka do pracy własnej"
   ]
  },
  {
   "attachments": {},
   "cell_type": "markdown",
   "metadata": {
    "id": "_cea9J0vlTuh",
    "pycharm": {
     "name": "#%% md\n"
    }
   },
   "source": [
    "Posługując się metodą maksymalnej wiarygodności (spójrz na wykład), można wyznaczyć analitycznie nieobciążone estymatory wartości $\\mu$ i $\\sigma$, które dają najlepsze dopasowanie rozkładu normalnego do zbioru danych $\\left\\{ x_i\\right\\}_{i=1}^N$:\n",
    "$$\\widehat{\\mu} = \\frac{1}{N}\\sum_{i=1}^Nx_i,$$\n",
    "$$\\widehat{\\sigma}^2 = \\frac{1}{N}\\sum_{i=1}^N(x_i-\\mu)^2,$$\n",
    "dla znanej wartości $\\mu$ lub:\n",
    "$$\\widehat{\\sigma}^2 = \\frac{1}{N-1}\\sum_{i=1}^N(x_i-\\widehat{\\mu})^2,$$\n",
    "gdy oba parametry są estymowane z tego samego zbioru danych. <br>\n",
    "**Ciekawostka**: gdy $N$ jest duże, nie ma większego znaczenia czy dzielisz przez $N$ czy przez $N-1$."
   ]
  },
  {
   "attachments": {},
   "cell_type": "markdown",
   "metadata": {
    "id": "zlOaARHHxGIA",
    "pycharm": {
     "name": "#%% md\n"
    }
   },
   "source": [
    "#### **Estymator nieparametryczny** <br>\n",
    "Określona jest jedynie ogólna postać wzoru opisującego rozkład. <br>\n",
    "Jego dokładna  postać zależy od liczby obserwacji zawartych w zbiorze danych. <br>\n",
    "Rozkład może mieć pewne parametry, których wartość zależy od użytkownika lub od danych. <br>\n",
    "Dopasowanie rozkładu do danych nie wymaga procesu optymalizacji."
   ]
  },
  {
   "attachments": {},
   "cell_type": "markdown",
   "metadata": {
    "id": "vTqVF7L0zJcZ",
    "pycharm": {
     "name": "#%% md\n"
    }
   },
   "source": [
    "**Estymator Parzena**. Niniejszy fragment notatnika jest inspirowany pierwszym rozdziałem książki:<br>\n",
    "Piotr Kulczycki, [Estymatory jądrowe w analizie systemowej](https://www.ibspan.waw.pl/~kulpi/publ/Kulczycki_-_Estymatory_jadrowe_w_analizie_systemowej_-_WNT_-_2005.pdf), WNT 2005."
   ]
  },
  {
   "attachments": {},
   "cell_type": "markdown",
   "metadata": {
    "id": "E2znKkhrnx41",
    "pycharm": {
     "name": "#%% md\n"
    }
   },
   "source": [
    "Zaimplementujemy rozkład normalny w nieco inny sposób niż funkcję $f$. <br>\n",
    "Utworzymy funkcję $K$, która jest równoważna funkcji $f$ dla $\\mu=0$ i $\\sigma=1$:\n",
    "\\begin{equation}\n",
    "K(x)=\\frac{1}{\\sqrt{2\\pi}}\\exp\\left[-\\frac{x^2}{2}\\right].\n",
    "\\tag{2}\n",
    "\\end{equation}\n",
    "Nosi ona nazwę **funkcji jądrowej** (ang. *kernel*). Funkcja musi spełnić pewne warunki, aby zasługiwała na tę nazwę (patrz: wykład lub książka podana wyżej). Ciekawe przykłady innych funkcji jądrowych można znaleźć w [tym artykule](https://arxiv.org/pdf/1212.2812.pdf).\n"
   ]
  },
  {
   "cell_type": "code",
   "execution_count": null,
   "metadata": {
    "id": "9X3P4WIKiNky",
    "pycharm": {
     "name": "#%%\n"
    }
   },
   "outputs": [],
   "source": [
    "def K(x):\n",
    "  return np.exp(-x**2/2)/np.sqrt(2*np.pi)"
   ]
  },
  {
   "attachments": {},
   "cell_type": "markdown",
   "metadata": {
    "id": "0gaqhHVquvbm",
    "pycharm": {
     "name": "#%% md\n"
    }
   },
   "source": [
    "Aby ulokować maksimum funkcji $K$ w punkcie $x_i$ pochodzącym ze zbioru danych, wystarczy wywołać:\n",
    "$$K(x-x_i).$$\n",
    "Uwzględnienie rozproszenia wymaga dzielenia przez parametr, który oznaczać będziemy przez $h$:\n",
    "$$K\\left(\\frac{x-x_i}{h}\\right).$$\n",
    "Parametr $h$ pełni tę samą rolę, co wcześniej $\\sigma$, ale trzeba jakoś podkreślić różnicę między stosowaniem funkcji jako rozkładu i jako jądra estymatora nieparametrycznego. Umowna nazwa $h$ to **szerokość okna** (ang. *bandwidth*). <br>\n",
    "Rozciągnięcie wykresu $K$ o czynnik $h$ spowoduje $h$-krotny wzrost pola pod jej wykresem. Unormowanie funkcji jądrowej osiągnąć można w prosty sposób:\n",
    "\\begin{equation}\n",
    "\\frac{1}{h}K\\left(\\frac{x-x_i}{h}\\right).\n",
    "\\tag{3}\n",
    "\\end{equation}\n",
    "\n"
   ]
  },
  {
   "attachments": {},
   "cell_type": "markdown",
   "metadata": {
    "id": "1bZNCTT3FcEe",
    "pycharm": {
     "name": "#%% md\n"
    }
   },
   "source": [
    "Dane pomiarowe $\\left\\{x_i\\right\\}_{i=1}^N$ wpisane ręcznie. "
   ]
  },
  {
   "cell_type": "code",
   "execution_count": null,
   "metadata": {
    "id": "5jUe2GikuIN-",
    "pycharm": {
     "name": "#%%\n"
    }
   },
   "outputs": [],
   "source": [
    "X = np.array([1.33, 0.3, 0.97, 1.1, 0.1, 1.4, 0.4])"
   ]
  },
  {
   "attachments": {},
   "cell_type": "markdown",
   "metadata": {
    "id": "2QP9c6FxGj-O",
    "pycharm": {
     "name": "#%% md\n"
    }
   },
   "source": [
    "Ustalamy arbitralnie $h=0.3$. Ta wartość może być wynikiem kłótni ekspertów."
   ]
  },
  {
   "attachments": {},
   "cell_type": "markdown",
   "metadata": {
    "id": "7TnudrrCF2w9",
    "pycharm": {
     "name": "#%% md\n"
    }
   },
   "source": [
    "Załóżmy, że pomiary przychodzą pojedynczo w takiej kolejności, jak w powyższej serii. Przypominam, że $x_1$ w zbiorze danych odpowiada ```X[0]``` w kodzie. <br>\n",
    "Gdy dostępny jest tylko jeden pomiar $x_1$, to jedyna rozsądna możliwość rozpięcia nad nim rozkładu jest taka:\n",
    "$$\\frac{1}{h}K\\left( \\frac{x-x_1}{h}\\right).$$"
   ]
  },
  {
   "cell_type": "code",
   "execution_count": null,
   "metadata": {
    "colab": {
     "base_uri": "https://localhost:8080/",
     "height": 265
    },
    "id": "gkYqhTuHFpDb",
    "outputId": "1514f091-b023-4eea-a908-463d5ae9a220",
    "pycharm": {
     "name": "#%%\n"
    }
   },
   "outputs": [],
   "source": [
    "os_x = np.linspace(X.min()-1, X.max()+1, num=300)\n",
    "\n",
    "h = .3\n",
    "\n",
    "os_y1 = K((os_x - X[0])/h)/h \n",
    "\n",
    "plt.plot(os_x, os_y1)\n",
    "plt.plot(X[0],0, 's', color='black')\n",
    "plt.annotate(r'$x_1$', xy=[X[0],0.05], horizontalalignment='center', fontsize=12)\n",
    "plt.show()"
   ]
  },
  {
   "attachments": {},
   "cell_type": "markdown",
   "metadata": {
    "id": "BhWwjbVzSQYz",
    "pycharm": {
     "name": "#%% md\n"
    }
   },
   "source": [
    "Pojawia się drugi pomiar $x_2$. Jemu również można przydzielić funkcję\n",
    "$$\\frac{1}{h}K\\left( \\frac{x-x_2}{h}\\right),$$\n",
    "ale obie trzeba połączyć w jeden rozkład:\n",
    "$$\\frac{1}{2}\\Bigg[\\frac{1}{h}K\\left( \\frac{x-x_1}{h}\\right) + \\frac{1}{h}K\\left( \\frac{x-x_2}{h}\\right)\\Bigg].$$\n",
    "Dzielenie przez $2$ pozwala zachować unormowanie całego rozkładu."
   ]
  },
  {
   "cell_type": "code",
   "execution_count": null,
   "metadata": {
    "colab": {
     "base_uri": "https://localhost:8080/",
     "height": 265
    },
    "id": "dvE-nqd4IWi_",
    "outputId": "eab6ece8-a9f8-4546-e92b-3dfab1c02b8b",
    "pycharm": {
     "name": "#%%\n"
    }
   },
   "outputs": [],
   "source": [
    "h = .3\n",
    "os_y2 = K((os_x - X[1])/h)/h \n",
    "os_y = (K((os_x - X[0])/h)/h + K((os_x - X[1])/h)/h)/2 \n",
    "\n",
    "plt.plot(os_x, os_y1, alpha=0.8, linestyle='dashed')\n",
    "plt.plot(os_x, os_y2, alpha=0.8, linestyle='dashed')\n",
    "plt.plot(os_x, os_y, linewidth=3)\n",
    "plt.plot(X[0],0, 's', color='black')\n",
    "plt.plot(X[1],0, 's', color='black')\n",
    "plt.annotate(r'$x_1$', xy=[X[0],0.05], horizontalalignment='center', fontsize=12)\n",
    "plt.annotate(r'$x_2$', xy=[X[1],0.05], horizontalalignment='center', fontsize=12)\n",
    "plt.show()"
   ]
  },
  {
   "attachments": {},
   "cell_type": "markdown",
   "metadata": {
    "id": "G_w96SubXUCp",
    "pycharm": {
     "name": "#%% md\n"
    }
   },
   "source": [
    "**Zbadaj** wpływ doboru wartości parametru $h$ na rozkład."
   ]
  },
  {
   "attachments": {},
   "cell_type": "markdown",
   "metadata": {
    "id": "gXo819YMXrCA",
    "pycharm": {
     "name": "#%% md\n"
    }
   },
   "source": [
    "Powinno być już teraz jasne, skąd się bierze wzór na **estymator Parzena**: \n",
    "\\begin{equation}\n",
    "f(\\mathbf{x}) = \\frac{1}{Nh^d} \\sum_{i=1}^{N} K\\left(\\frac{\\mathbf{x} - \\mathbf{x}_i}{h}\\right),\n",
    "\\end{equation}\n",
    "gdzie  $d$ oznacza wymiarowość wektora $\\mathbf{x}$, czyli liczbę cech. W podanych przykładach $d=1$."
   ]
  },
  {
   "cell_type": "code",
   "execution_count": null,
   "metadata": {
    "colab": {
     "base_uri": "https://localhost:8080/",
     "height": 283
    },
    "id": "plvRGyaLT43H",
    "outputId": "bbfbb1af-7b2d-4962-aded-19d3c4daa62b",
    "pycharm": {
     "name": "#%%\n"
    }
   },
   "outputs": [],
   "source": [
    "H = [0.3, 0.1, 0.05]\n",
    "N = X.size\n",
    "\n",
    "plt.figure(figsize=(10,4))\n",
    "for h in H:\n",
    "  suma = 0\n",
    "  for nr, pomiar in enumerate(X):\n",
    "    suma += K((os_x-pomiar)/h)\n",
    "    plt.annotate(r'$x_{}$'.format(nr+1), xy=[X[nr],0.05], horizontalalignment='center', fontsize=12)\n",
    "  os_y = suma/(h*N)\n",
    "  plt.plot(os_x, os_y, label=f'h = {h}')\n",
    "  \n",
    "\n",
    "plt.plot(X, np.zeros_like(X) , 's', markersize=5, color='black', label='dane')\n",
    "plt.xlabel('$x$', fontsize=14)\n",
    "plt.ylabel('$f$', fontsize=14, rotation='horizontal', labelpad=15)\n",
    "plt.legend(fontsize=12, shadow=True)\n",
    "plt.show()"
   ]
  },
  {
   "attachments": {},
   "cell_type": "markdown",
   "metadata": {
    "id": "Kr6VocFGhUCC",
    "pycharm": {
     "name": "#%% md\n"
    }
   },
   "source": [
    "**Zastosuj** estymator Parzena do prawdziwego zbioru danych przedstawionego na początku notatnika. "
   ]
  },
  {
   "cell_type": "code",
   "execution_count": null,
   "metadata": {
    "id": "_2aQZttZheAT",
    "pycharm": {
     "name": "#%%\n"
    }
   },
   "outputs": [],
   "source": [
    "#  komórka na wykonanie zadania\n"
   ]
  },
  {
   "attachments": {},
   "cell_type": "markdown",
   "metadata": {
    "id": "TO2YUlUoopf7",
    "pycharm": {
     "name": "#%% md\n"
    }
   },
   "source": [
    "Wykorzystaj do wykonania tego samego zadania procedurę [```kdeplot```](https://seaborn.pydata.org/generated/seaborn.kdeplot.html) biblioteki ```seaborn```. Sposób jej użycia przedstawiony jest w podanej dokumentacji."
   ]
  },
  {
   "cell_type": "code",
   "execution_count": null,
   "metadata": {
    "id": "j5kj3jCHY_lc",
    "pycharm": {
     "name": "#%%\n"
    }
   },
   "outputs": [],
   "source": [
    "import seaborn as sns\n",
    "#  komórka na wykonanie zadania\n"
   ]
  },
  {
   "attachments": {},
   "cell_type": "markdown",
   "metadata": {
    "id": "UWHmsbsppXp_",
    "pycharm": {
     "name": "#%% md\n"
    }
   },
   "source": [
    "Zbadaj możliwości procedur ```kdeplot``` oraz [```jointplot```](https://seaborn.pydata.org/generated/seaborn.jointplot.html) w zakresie estymacji i wizualizacji rozkładów danych dwuwymiarowych. "
   ]
  },
  {
   "cell_type": "code",
   "execution_count": null,
   "metadata": {
    "colab": {
     "base_uri": "https://localhost:8080/",
     "height": 206
    },
    "id": "sCHTDSjRpU9V",
    "outputId": "78c2e129-0790-4fa4-c1dc-428f1be3745f",
    "pycharm": {
     "name": "#%%\n"
    }
   },
   "outputs": [],
   "source": [
    "dane_sub = dane[['waga', 'wzrost']]\n",
    "display(dane_sub.sample(5))\n",
    "\n",
    "# komórka na wykonanie zadania\n"
   ]
  },
  {
   "attachments": {},
   "cell_type": "markdown",
   "metadata": {
    "id": "JT4CCxyxrp3v",
    "pycharm": {
     "name": "#%% md\n"
    }
   },
   "source": [
    "**Bonus** <br>\n",
    "Oto szybki i wygodny sposób na wstępne przyjrzenie się danym pomiarowym."
   ]
  },
  {
   "cell_type": "code",
   "execution_count": null,
   "metadata": {
    "colab": {
     "base_uri": "https://localhost:8080/",
     "height": 903
    },
    "id": "bK8Ary1mpxrX",
    "outputId": "9cc449a2-ca44-4bc7-ec8d-9fad6d80487b",
    "pycharm": {
     "name": "#%%\n"
    }
   },
   "outputs": [],
   "source": [
    "sns.pairplot(dane, hue='płeć', height=2.5)"
   ]
  }
 ],
 "metadata": {
  "colab": {
   "collapsed_sections": [],
   "name": "MSID_4_dopasowanie_rozkładu_do_danych.ipynb",
   "provenance": []
  },
  "kernelspec": {
   "display_name": "Python 3",
   "name": "python3"
  },
  "language_info": {
   "codemirror_mode": {
    "name": "ipython",
    "version": 3
   },
   "file_extension": ".py",
   "mimetype": "text/x-python",
   "name": "python",
   "nbconvert_exporter": "python",
   "pygments_lexer": "ipython3",
   "version": "3.8.13"
  }
 },
 "nbformat": 4,
 "nbformat_minor": 0
}